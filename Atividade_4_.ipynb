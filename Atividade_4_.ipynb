{
  "nbformat": 4,
  "nbformat_minor": 0,
  "metadata": {
    "colab": {
      "name": "Atividade I .ipynb",
      "provenance": [],
      "authorship_tag": "ABX9TyMpJ6GYDhsy4f1mmQTg8kNf",
      "include_colab_link": true
    },
    "kernelspec": {
      "name": "python3",
      "display_name": "Python 3"
    }
  },
  "cells": [
    {
      "cell_type": "markdown",
      "metadata": {
        "id": "view-in-github",
        "colab_type": "text"
      },
      "source": [
        "<a href=\"https://colab.research.google.com/github/JulyoJ/Aprendizado-de-maquina/blob/master/Atividade_4_.ipynb\" target=\"_parent\"><img src=\"https://colab.research.google.com/assets/colab-badge.svg\" alt=\"Open In Colab\"/></a>"
      ]
    },
    {
      "cell_type": "code",
      "metadata": {
        "id": "z76_XE_qgAZC",
        "colab_type": "code",
        "colab": {
          "base_uri": "https://localhost:8080/",
          "height": 35
        },
        "outputId": "21ef002f-4638-4dba-e24b-8bb7531abd54"
      },
      "source": [
        "from google.colab import drive\n",
        "drive.mount('/content/drive/')\n"
      ],
      "execution_count": null,
      "outputs": [
        {
          "output_type": "stream",
          "text": [
            "Drive already mounted at /content/drive/; to attempt to forcibly remount, call drive.mount(\"/content/drive/\", force_remount=True).\n"
          ],
          "name": "stdout"
        }
      ]
    },
    {
      "cell_type": "code",
      "metadata": {
        "id": "DAG6tnccloDp",
        "colab_type": "code",
        "colab": {}
      },
      "source": [
        "import numpy as np\n",
        "\n",
        "import pandas as pd\n",
        "import matplotlib.pyplot as plt\n",
        "from mpl_toolkits.mplot3d import Axes3D\n",
        "\n",
        "from sklearn.model_selection import train_test_split\n",
        "from sklearn.cluster import KMeans"
      ],
      "execution_count": null,
      "outputs": []
    },
    {
      "cell_type": "code",
      "metadata": {
        "id": "uYjPmRHRrJix",
        "colab_type": "code",
        "colab": {
          "base_uri": "https://localhost:8080/",
          "height": 226
        },
        "outputId": "6a8cea59-f7eb-41e2-b864-49110e7b129c"
      },
      "source": [
        "dados = pd.read_csv('/content/drive/My Drive/Colab Notebooks/Aprendizado/Semana1/datasets/reconhecimento_de_genero_por_voz.csv')\n",
        "dados.head ()"
      ],
      "execution_count": null,
      "outputs": [
        {
          "output_type": "execute_result",
          "data": {
            "text/html": [
              "<div>\n",
              "<style scoped>\n",
              "    .dataframe tbody tr th:only-of-type {\n",
              "        vertical-align: middle;\n",
              "    }\n",
              "\n",
              "    .dataframe tbody tr th {\n",
              "        vertical-align: top;\n",
              "    }\n",
              "\n",
              "    .dataframe thead th {\n",
              "        text-align: right;\n",
              "    }\n",
              "</style>\n",
              "<table border=\"1\" class=\"dataframe\">\n",
              "  <thead>\n",
              "    <tr style=\"text-align: right;\">\n",
              "      <th></th>\n",
              "      <th>meanfreq</th>\n",
              "      <th>sd</th>\n",
              "      <th>median</th>\n",
              "      <th>Q25</th>\n",
              "      <th>Q75</th>\n",
              "      <th>IQR</th>\n",
              "      <th>skew</th>\n",
              "      <th>kurt</th>\n",
              "      <th>sp.ent</th>\n",
              "      <th>sfm</th>\n",
              "      <th>mode</th>\n",
              "      <th>centroid</th>\n",
              "      <th>meanfun</th>\n",
              "      <th>minfun</th>\n",
              "      <th>maxfun</th>\n",
              "      <th>meandom</th>\n",
              "      <th>mindom</th>\n",
              "      <th>maxdom</th>\n",
              "      <th>dfrange</th>\n",
              "      <th>modindx</th>\n",
              "      <th>label</th>\n",
              "    </tr>\n",
              "  </thead>\n",
              "  <tbody>\n",
              "    <tr>\n",
              "      <th>0</th>\n",
              "      <td>0.059781</td>\n",
              "      <td>0.064241</td>\n",
              "      <td>0.032027</td>\n",
              "      <td>0.015071</td>\n",
              "      <td>0.090193</td>\n",
              "      <td>0.075122</td>\n",
              "      <td>12.863462</td>\n",
              "      <td>274.402906</td>\n",
              "      <td>0.893369</td>\n",
              "      <td>0.491918</td>\n",
              "      <td>0.000000</td>\n",
              "      <td>0.059781</td>\n",
              "      <td>0.084279</td>\n",
              "      <td>0.015702</td>\n",
              "      <td>0.275862</td>\n",
              "      <td>0.007812</td>\n",
              "      <td>0.007812</td>\n",
              "      <td>0.007812</td>\n",
              "      <td>0.000000</td>\n",
              "      <td>0.000000</td>\n",
              "      <td>male</td>\n",
              "    </tr>\n",
              "    <tr>\n",
              "      <th>1</th>\n",
              "      <td>0.066009</td>\n",
              "      <td>0.067310</td>\n",
              "      <td>0.040229</td>\n",
              "      <td>0.019414</td>\n",
              "      <td>0.092666</td>\n",
              "      <td>0.073252</td>\n",
              "      <td>22.423285</td>\n",
              "      <td>634.613855</td>\n",
              "      <td>0.892193</td>\n",
              "      <td>0.513724</td>\n",
              "      <td>0.000000</td>\n",
              "      <td>0.066009</td>\n",
              "      <td>0.107937</td>\n",
              "      <td>0.015826</td>\n",
              "      <td>0.250000</td>\n",
              "      <td>0.009014</td>\n",
              "      <td>0.007812</td>\n",
              "      <td>0.054688</td>\n",
              "      <td>0.046875</td>\n",
              "      <td>0.052632</td>\n",
              "      <td>male</td>\n",
              "    </tr>\n",
              "    <tr>\n",
              "      <th>2</th>\n",
              "      <td>0.077316</td>\n",
              "      <td>0.083829</td>\n",
              "      <td>0.036718</td>\n",
              "      <td>0.008701</td>\n",
              "      <td>0.131908</td>\n",
              "      <td>0.123207</td>\n",
              "      <td>30.757155</td>\n",
              "      <td>1024.927705</td>\n",
              "      <td>0.846389</td>\n",
              "      <td>0.478905</td>\n",
              "      <td>0.000000</td>\n",
              "      <td>0.077316</td>\n",
              "      <td>0.098706</td>\n",
              "      <td>0.015656</td>\n",
              "      <td>0.271186</td>\n",
              "      <td>0.007990</td>\n",
              "      <td>0.007812</td>\n",
              "      <td>0.015625</td>\n",
              "      <td>0.007812</td>\n",
              "      <td>0.046512</td>\n",
              "      <td>male</td>\n",
              "    </tr>\n",
              "    <tr>\n",
              "      <th>3</th>\n",
              "      <td>0.151228</td>\n",
              "      <td>0.072111</td>\n",
              "      <td>0.158011</td>\n",
              "      <td>0.096582</td>\n",
              "      <td>0.207955</td>\n",
              "      <td>0.111374</td>\n",
              "      <td>1.232831</td>\n",
              "      <td>4.177296</td>\n",
              "      <td>0.963322</td>\n",
              "      <td>0.727232</td>\n",
              "      <td>0.083878</td>\n",
              "      <td>0.151228</td>\n",
              "      <td>0.088965</td>\n",
              "      <td>0.017798</td>\n",
              "      <td>0.250000</td>\n",
              "      <td>0.201497</td>\n",
              "      <td>0.007812</td>\n",
              "      <td>0.562500</td>\n",
              "      <td>0.554688</td>\n",
              "      <td>0.247119</td>\n",
              "      <td>male</td>\n",
              "    </tr>\n",
              "    <tr>\n",
              "      <th>4</th>\n",
              "      <td>0.135120</td>\n",
              "      <td>0.079146</td>\n",
              "      <td>0.124656</td>\n",
              "      <td>0.078720</td>\n",
              "      <td>0.206045</td>\n",
              "      <td>0.127325</td>\n",
              "      <td>1.101174</td>\n",
              "      <td>4.333713</td>\n",
              "      <td>0.971955</td>\n",
              "      <td>0.783568</td>\n",
              "      <td>0.104261</td>\n",
              "      <td>0.135120</td>\n",
              "      <td>0.106398</td>\n",
              "      <td>0.016931</td>\n",
              "      <td>0.266667</td>\n",
              "      <td>0.712812</td>\n",
              "      <td>0.007812</td>\n",
              "      <td>5.484375</td>\n",
              "      <td>5.476562</td>\n",
              "      <td>0.208274</td>\n",
              "      <td>male</td>\n",
              "    </tr>\n",
              "  </tbody>\n",
              "</table>\n",
              "</div>"
            ],
            "text/plain": [
              "   meanfreq        sd    median       Q25  ...    maxdom   dfrange   modindx  label\n",
              "0  0.059781  0.064241  0.032027  0.015071  ...  0.007812  0.000000  0.000000   male\n",
              "1  0.066009  0.067310  0.040229  0.019414  ...  0.054688  0.046875  0.052632   male\n",
              "2  0.077316  0.083829  0.036718  0.008701  ...  0.015625  0.007812  0.046512   male\n",
              "3  0.151228  0.072111  0.158011  0.096582  ...  0.562500  0.554688  0.247119   male\n",
              "4  0.135120  0.079146  0.124656  0.078720  ...  5.484375  5.476562  0.208274   male\n",
              "\n",
              "[5 rows x 21 columns]"
            ]
          },
          "metadata": {
            "tags": []
          },
          "execution_count": 350
        }
      ]
    },
    {
      "cell_type": "code",
      "metadata": {
        "id": "iBRZajdQtoV8",
        "colab_type": "code",
        "colab": {
          "base_uri": "https://localhost:8080/",
          "height": 90
        },
        "outputId": "f000bc6e-5b7a-4d2c-ab7e-0ecdca8d4ccb"
      },
      "source": [
        "dados.columns"
      ],
      "execution_count": null,
      "outputs": [
        {
          "output_type": "execute_result",
          "data": {
            "text/plain": [
              "Index(['meanfreq', 'sd', 'median', 'Q25', 'Q75', 'IQR', 'skew', 'kurt',\n",
              "       'sp.ent', 'sfm', 'mode', 'centroid', 'meanfun', 'minfun', 'maxfun',\n",
              "       'meandom', 'mindom', 'maxdom', 'dfrange', 'modindx', 'label'],\n",
              "      dtype='object')"
            ]
          },
          "metadata": {
            "tags": []
          },
          "execution_count": 351
        }
      ]
    },
    {
      "cell_type": "code",
      "metadata": {
        "id": "6eUNG6a-t9SJ",
        "colab_type": "code",
        "colab": {}
      },
      "source": [
        "dados = dados.dropna()"
      ],
      "execution_count": null,
      "outputs": []
    },
    {
      "cell_type": "code",
      "metadata": {
        "id": "nSzHSM5duFuG",
        "colab_type": "code",
        "colab": {
          "base_uri": "https://localhost:8080/",
          "height": 226
        },
        "outputId": "5e02cc77-6c5f-45ea-bf52-09a16fb8eb36"
      },
      "source": [
        "dados = dados.drop (columns=['sd'])\n",
        "dados.head()"
      ],
      "execution_count": null,
      "outputs": [
        {
          "output_type": "execute_result",
          "data": {
            "text/html": [
              "<div>\n",
              "<style scoped>\n",
              "    .dataframe tbody tr th:only-of-type {\n",
              "        vertical-align: middle;\n",
              "    }\n",
              "\n",
              "    .dataframe tbody tr th {\n",
              "        vertical-align: top;\n",
              "    }\n",
              "\n",
              "    .dataframe thead th {\n",
              "        text-align: right;\n",
              "    }\n",
              "</style>\n",
              "<table border=\"1\" class=\"dataframe\">\n",
              "  <thead>\n",
              "    <tr style=\"text-align: right;\">\n",
              "      <th></th>\n",
              "      <th>meanfreq</th>\n",
              "      <th>median</th>\n",
              "      <th>Q25</th>\n",
              "      <th>Q75</th>\n",
              "      <th>IQR</th>\n",
              "      <th>skew</th>\n",
              "      <th>kurt</th>\n",
              "      <th>sp.ent</th>\n",
              "      <th>sfm</th>\n",
              "      <th>mode</th>\n",
              "      <th>centroid</th>\n",
              "      <th>meanfun</th>\n",
              "      <th>minfun</th>\n",
              "      <th>maxfun</th>\n",
              "      <th>meandom</th>\n",
              "      <th>mindom</th>\n",
              "      <th>maxdom</th>\n",
              "      <th>dfrange</th>\n",
              "      <th>modindx</th>\n",
              "      <th>label</th>\n",
              "    </tr>\n",
              "  </thead>\n",
              "  <tbody>\n",
              "    <tr>\n",
              "      <th>0</th>\n",
              "      <td>0.059781</td>\n",
              "      <td>0.032027</td>\n",
              "      <td>0.015071</td>\n",
              "      <td>0.090193</td>\n",
              "      <td>0.075122</td>\n",
              "      <td>12.863462</td>\n",
              "      <td>274.402906</td>\n",
              "      <td>0.893369</td>\n",
              "      <td>0.491918</td>\n",
              "      <td>0.000000</td>\n",
              "      <td>0.059781</td>\n",
              "      <td>0.084279</td>\n",
              "      <td>0.015702</td>\n",
              "      <td>0.275862</td>\n",
              "      <td>0.007812</td>\n",
              "      <td>0.007812</td>\n",
              "      <td>0.007812</td>\n",
              "      <td>0.000000</td>\n",
              "      <td>0.000000</td>\n",
              "      <td>male</td>\n",
              "    </tr>\n",
              "    <tr>\n",
              "      <th>1</th>\n",
              "      <td>0.066009</td>\n",
              "      <td>0.040229</td>\n",
              "      <td>0.019414</td>\n",
              "      <td>0.092666</td>\n",
              "      <td>0.073252</td>\n",
              "      <td>22.423285</td>\n",
              "      <td>634.613855</td>\n",
              "      <td>0.892193</td>\n",
              "      <td>0.513724</td>\n",
              "      <td>0.000000</td>\n",
              "      <td>0.066009</td>\n",
              "      <td>0.107937</td>\n",
              "      <td>0.015826</td>\n",
              "      <td>0.250000</td>\n",
              "      <td>0.009014</td>\n",
              "      <td>0.007812</td>\n",
              "      <td>0.054688</td>\n",
              "      <td>0.046875</td>\n",
              "      <td>0.052632</td>\n",
              "      <td>male</td>\n",
              "    </tr>\n",
              "    <tr>\n",
              "      <th>2</th>\n",
              "      <td>0.077316</td>\n",
              "      <td>0.036718</td>\n",
              "      <td>0.008701</td>\n",
              "      <td>0.131908</td>\n",
              "      <td>0.123207</td>\n",
              "      <td>30.757155</td>\n",
              "      <td>1024.927705</td>\n",
              "      <td>0.846389</td>\n",
              "      <td>0.478905</td>\n",
              "      <td>0.000000</td>\n",
              "      <td>0.077316</td>\n",
              "      <td>0.098706</td>\n",
              "      <td>0.015656</td>\n",
              "      <td>0.271186</td>\n",
              "      <td>0.007990</td>\n",
              "      <td>0.007812</td>\n",
              "      <td>0.015625</td>\n",
              "      <td>0.007812</td>\n",
              "      <td>0.046512</td>\n",
              "      <td>male</td>\n",
              "    </tr>\n",
              "    <tr>\n",
              "      <th>3</th>\n",
              "      <td>0.151228</td>\n",
              "      <td>0.158011</td>\n",
              "      <td>0.096582</td>\n",
              "      <td>0.207955</td>\n",
              "      <td>0.111374</td>\n",
              "      <td>1.232831</td>\n",
              "      <td>4.177296</td>\n",
              "      <td>0.963322</td>\n",
              "      <td>0.727232</td>\n",
              "      <td>0.083878</td>\n",
              "      <td>0.151228</td>\n",
              "      <td>0.088965</td>\n",
              "      <td>0.017798</td>\n",
              "      <td>0.250000</td>\n",
              "      <td>0.201497</td>\n",
              "      <td>0.007812</td>\n",
              "      <td>0.562500</td>\n",
              "      <td>0.554688</td>\n",
              "      <td>0.247119</td>\n",
              "      <td>male</td>\n",
              "    </tr>\n",
              "    <tr>\n",
              "      <th>4</th>\n",
              "      <td>0.135120</td>\n",
              "      <td>0.124656</td>\n",
              "      <td>0.078720</td>\n",
              "      <td>0.206045</td>\n",
              "      <td>0.127325</td>\n",
              "      <td>1.101174</td>\n",
              "      <td>4.333713</td>\n",
              "      <td>0.971955</td>\n",
              "      <td>0.783568</td>\n",
              "      <td>0.104261</td>\n",
              "      <td>0.135120</td>\n",
              "      <td>0.106398</td>\n",
              "      <td>0.016931</td>\n",
              "      <td>0.266667</td>\n",
              "      <td>0.712812</td>\n",
              "      <td>0.007812</td>\n",
              "      <td>5.484375</td>\n",
              "      <td>5.476562</td>\n",
              "      <td>0.208274</td>\n",
              "      <td>male</td>\n",
              "    </tr>\n",
              "  </tbody>\n",
              "</table>\n",
              "</div>"
            ],
            "text/plain": [
              "   meanfreq    median       Q25       Q75  ...    maxdom   dfrange   modindx  label\n",
              "0  0.059781  0.032027  0.015071  0.090193  ...  0.007812  0.000000  0.000000   male\n",
              "1  0.066009  0.040229  0.019414  0.092666  ...  0.054688  0.046875  0.052632   male\n",
              "2  0.077316  0.036718  0.008701  0.131908  ...  0.015625  0.007812  0.046512   male\n",
              "3  0.151228  0.158011  0.096582  0.207955  ...  0.562500  0.554688  0.247119   male\n",
              "4  0.135120  0.124656  0.078720  0.206045  ...  5.484375  5.476562  0.208274   male\n",
              "\n",
              "[5 rows x 20 columns]"
            ]
          },
          "metadata": {
            "tags": []
          },
          "execution_count": 353
        }
      ]
    },
    {
      "cell_type": "code",
      "metadata": {
        "id": "bqvjSRVMwJf0",
        "colab_type": "code",
        "colab": {
          "base_uri": "https://localhost:8080/",
          "height": 1000
        },
        "outputId": "e790a3b7-b412-45c1-a32f-c0d3767b3c25"
      },
      "source": [
        "dados['label'] = dados['label'].replace(['male','female'],[1,0])\n",
        "dados.head(30)\n"
      ],
      "execution_count": null,
      "outputs": [
        {
          "output_type": "execute_result",
          "data": {
            "text/html": [
              "<div>\n",
              "<style scoped>\n",
              "    .dataframe tbody tr th:only-of-type {\n",
              "        vertical-align: middle;\n",
              "    }\n",
              "\n",
              "    .dataframe tbody tr th {\n",
              "        vertical-align: top;\n",
              "    }\n",
              "\n",
              "    .dataframe thead th {\n",
              "        text-align: right;\n",
              "    }\n",
              "</style>\n",
              "<table border=\"1\" class=\"dataframe\">\n",
              "  <thead>\n",
              "    <tr style=\"text-align: right;\">\n",
              "      <th></th>\n",
              "      <th>meanfreq</th>\n",
              "      <th>median</th>\n",
              "      <th>Q25</th>\n",
              "      <th>Q75</th>\n",
              "      <th>IQR</th>\n",
              "      <th>skew</th>\n",
              "      <th>kurt</th>\n",
              "      <th>sp.ent</th>\n",
              "      <th>sfm</th>\n",
              "      <th>mode</th>\n",
              "      <th>centroid</th>\n",
              "      <th>meanfun</th>\n",
              "      <th>minfun</th>\n",
              "      <th>maxfun</th>\n",
              "      <th>meandom</th>\n",
              "      <th>mindom</th>\n",
              "      <th>maxdom</th>\n",
              "      <th>dfrange</th>\n",
              "      <th>modindx</th>\n",
              "      <th>label</th>\n",
              "    </tr>\n",
              "  </thead>\n",
              "  <tbody>\n",
              "    <tr>\n",
              "      <th>0</th>\n",
              "      <td>0.059781</td>\n",
              "      <td>0.032027</td>\n",
              "      <td>0.015071</td>\n",
              "      <td>0.090193</td>\n",
              "      <td>0.075122</td>\n",
              "      <td>12.863462</td>\n",
              "      <td>274.402906</td>\n",
              "      <td>0.893369</td>\n",
              "      <td>0.491918</td>\n",
              "      <td>0.000000</td>\n",
              "      <td>0.059781</td>\n",
              "      <td>0.084279</td>\n",
              "      <td>0.015702</td>\n",
              "      <td>0.275862</td>\n",
              "      <td>0.007812</td>\n",
              "      <td>0.007812</td>\n",
              "      <td>0.007812</td>\n",
              "      <td>0.000000</td>\n",
              "      <td>0.000000</td>\n",
              "      <td>1</td>\n",
              "    </tr>\n",
              "    <tr>\n",
              "      <th>1</th>\n",
              "      <td>0.066009</td>\n",
              "      <td>0.040229</td>\n",
              "      <td>0.019414</td>\n",
              "      <td>0.092666</td>\n",
              "      <td>0.073252</td>\n",
              "      <td>22.423285</td>\n",
              "      <td>634.613855</td>\n",
              "      <td>0.892193</td>\n",
              "      <td>0.513724</td>\n",
              "      <td>0.000000</td>\n",
              "      <td>0.066009</td>\n",
              "      <td>0.107937</td>\n",
              "      <td>0.015826</td>\n",
              "      <td>0.250000</td>\n",
              "      <td>0.009014</td>\n",
              "      <td>0.007812</td>\n",
              "      <td>0.054688</td>\n",
              "      <td>0.046875</td>\n",
              "      <td>0.052632</td>\n",
              "      <td>1</td>\n",
              "    </tr>\n",
              "    <tr>\n",
              "      <th>2</th>\n",
              "      <td>0.077316</td>\n",
              "      <td>0.036718</td>\n",
              "      <td>0.008701</td>\n",
              "      <td>0.131908</td>\n",
              "      <td>0.123207</td>\n",
              "      <td>30.757155</td>\n",
              "      <td>1024.927705</td>\n",
              "      <td>0.846389</td>\n",
              "      <td>0.478905</td>\n",
              "      <td>0.000000</td>\n",
              "      <td>0.077316</td>\n",
              "      <td>0.098706</td>\n",
              "      <td>0.015656</td>\n",
              "      <td>0.271186</td>\n",
              "      <td>0.007990</td>\n",
              "      <td>0.007812</td>\n",
              "      <td>0.015625</td>\n",
              "      <td>0.007812</td>\n",
              "      <td>0.046512</td>\n",
              "      <td>1</td>\n",
              "    </tr>\n",
              "    <tr>\n",
              "      <th>3</th>\n",
              "      <td>0.151228</td>\n",
              "      <td>0.158011</td>\n",
              "      <td>0.096582</td>\n",
              "      <td>0.207955</td>\n",
              "      <td>0.111374</td>\n",
              "      <td>1.232831</td>\n",
              "      <td>4.177296</td>\n",
              "      <td>0.963322</td>\n",
              "      <td>0.727232</td>\n",
              "      <td>0.083878</td>\n",
              "      <td>0.151228</td>\n",
              "      <td>0.088965</td>\n",
              "      <td>0.017798</td>\n",
              "      <td>0.250000</td>\n",
              "      <td>0.201497</td>\n",
              "      <td>0.007812</td>\n",
              "      <td>0.562500</td>\n",
              "      <td>0.554688</td>\n",
              "      <td>0.247119</td>\n",
              "      <td>1</td>\n",
              "    </tr>\n",
              "    <tr>\n",
              "      <th>4</th>\n",
              "      <td>0.135120</td>\n",
              "      <td>0.124656</td>\n",
              "      <td>0.078720</td>\n",
              "      <td>0.206045</td>\n",
              "      <td>0.127325</td>\n",
              "      <td>1.101174</td>\n",
              "      <td>4.333713</td>\n",
              "      <td>0.971955</td>\n",
              "      <td>0.783568</td>\n",
              "      <td>0.104261</td>\n",
              "      <td>0.135120</td>\n",
              "      <td>0.106398</td>\n",
              "      <td>0.016931</td>\n",
              "      <td>0.266667</td>\n",
              "      <td>0.712812</td>\n",
              "      <td>0.007812</td>\n",
              "      <td>5.484375</td>\n",
              "      <td>5.476562</td>\n",
              "      <td>0.208274</td>\n",
              "      <td>1</td>\n",
              "    </tr>\n",
              "    <tr>\n",
              "      <th>5</th>\n",
              "      <td>0.132786</td>\n",
              "      <td>0.119090</td>\n",
              "      <td>0.067958</td>\n",
              "      <td>0.209592</td>\n",
              "      <td>0.141634</td>\n",
              "      <td>1.932562</td>\n",
              "      <td>8.308895</td>\n",
              "      <td>0.963181</td>\n",
              "      <td>0.738307</td>\n",
              "      <td>0.112555</td>\n",
              "      <td>0.132786</td>\n",
              "      <td>0.110132</td>\n",
              "      <td>0.017112</td>\n",
              "      <td>0.253968</td>\n",
              "      <td>0.298222</td>\n",
              "      <td>0.007812</td>\n",
              "      <td>2.726562</td>\n",
              "      <td>2.718750</td>\n",
              "      <td>0.125160</td>\n",
              "      <td>1</td>\n",
              "    </tr>\n",
              "    <tr>\n",
              "      <th>6</th>\n",
              "      <td>0.150762</td>\n",
              "      <td>0.160106</td>\n",
              "      <td>0.092899</td>\n",
              "      <td>0.205718</td>\n",
              "      <td>0.112819</td>\n",
              "      <td>1.530643</td>\n",
              "      <td>5.987498</td>\n",
              "      <td>0.967573</td>\n",
              "      <td>0.762638</td>\n",
              "      <td>0.086197</td>\n",
              "      <td>0.150762</td>\n",
              "      <td>0.105945</td>\n",
              "      <td>0.026230</td>\n",
              "      <td>0.266667</td>\n",
              "      <td>0.479620</td>\n",
              "      <td>0.007812</td>\n",
              "      <td>5.312500</td>\n",
              "      <td>5.304688</td>\n",
              "      <td>0.123992</td>\n",
              "      <td>1</td>\n",
              "    </tr>\n",
              "    <tr>\n",
              "      <th>7</th>\n",
              "      <td>0.160514</td>\n",
              "      <td>0.144337</td>\n",
              "      <td>0.110532</td>\n",
              "      <td>0.231962</td>\n",
              "      <td>0.121430</td>\n",
              "      <td>1.397156</td>\n",
              "      <td>4.766611</td>\n",
              "      <td>0.959255</td>\n",
              "      <td>0.719858</td>\n",
              "      <td>0.128324</td>\n",
              "      <td>0.160514</td>\n",
              "      <td>0.093052</td>\n",
              "      <td>0.017758</td>\n",
              "      <td>0.144144</td>\n",
              "      <td>0.301339</td>\n",
              "      <td>0.007812</td>\n",
              "      <td>0.539062</td>\n",
              "      <td>0.531250</td>\n",
              "      <td>0.283937</td>\n",
              "      <td>1</td>\n",
              "    </tr>\n",
              "    <tr>\n",
              "      <th>8</th>\n",
              "      <td>0.142239</td>\n",
              "      <td>0.138587</td>\n",
              "      <td>0.088206</td>\n",
              "      <td>0.208587</td>\n",
              "      <td>0.120381</td>\n",
              "      <td>1.099746</td>\n",
              "      <td>4.070284</td>\n",
              "      <td>0.970723</td>\n",
              "      <td>0.770992</td>\n",
              "      <td>0.219103</td>\n",
              "      <td>0.142239</td>\n",
              "      <td>0.096729</td>\n",
              "      <td>0.017957</td>\n",
              "      <td>0.250000</td>\n",
              "      <td>0.336476</td>\n",
              "      <td>0.007812</td>\n",
              "      <td>2.164062</td>\n",
              "      <td>2.156250</td>\n",
              "      <td>0.148272</td>\n",
              "      <td>1</td>\n",
              "    </tr>\n",
              "    <tr>\n",
              "      <th>9</th>\n",
              "      <td>0.134329</td>\n",
              "      <td>0.121451</td>\n",
              "      <td>0.075580</td>\n",
              "      <td>0.201957</td>\n",
              "      <td>0.126377</td>\n",
              "      <td>1.190368</td>\n",
              "      <td>4.787310</td>\n",
              "      <td>0.975246</td>\n",
              "      <td>0.804505</td>\n",
              "      <td>0.011699</td>\n",
              "      <td>0.134329</td>\n",
              "      <td>0.105881</td>\n",
              "      <td>0.019300</td>\n",
              "      <td>0.262295</td>\n",
              "      <td>0.340365</td>\n",
              "      <td>0.015625</td>\n",
              "      <td>4.695312</td>\n",
              "      <td>4.679688</td>\n",
              "      <td>0.089920</td>\n",
              "      <td>1</td>\n",
              "    </tr>\n",
              "    <tr>\n",
              "      <th>10</th>\n",
              "      <td>0.157021</td>\n",
              "      <td>0.168160</td>\n",
              "      <td>0.101430</td>\n",
              "      <td>0.216740</td>\n",
              "      <td>0.115310</td>\n",
              "      <td>0.979442</td>\n",
              "      <td>3.974223</td>\n",
              "      <td>0.965249</td>\n",
              "      <td>0.733693</td>\n",
              "      <td>0.096358</td>\n",
              "      <td>0.157021</td>\n",
              "      <td>0.088894</td>\n",
              "      <td>0.022069</td>\n",
              "      <td>0.117647</td>\n",
              "      <td>0.460227</td>\n",
              "      <td>0.007812</td>\n",
              "      <td>2.812500</td>\n",
              "      <td>2.804688</td>\n",
              "      <td>0.200000</td>\n",
              "      <td>1</td>\n",
              "    </tr>\n",
              "    <tr>\n",
              "      <th>11</th>\n",
              "      <td>0.138551</td>\n",
              "      <td>0.127527</td>\n",
              "      <td>0.087314</td>\n",
              "      <td>0.202739</td>\n",
              "      <td>0.115426</td>\n",
              "      <td>1.626770</td>\n",
              "      <td>6.291365</td>\n",
              "      <td>0.966004</td>\n",
              "      <td>0.752042</td>\n",
              "      <td>0.012101</td>\n",
              "      <td>0.138551</td>\n",
              "      <td>0.104199</td>\n",
              "      <td>0.019139</td>\n",
              "      <td>0.262295</td>\n",
              "      <td>0.246094</td>\n",
              "      <td>0.007812</td>\n",
              "      <td>2.718750</td>\n",
              "      <td>2.710938</td>\n",
              "      <td>0.132351</td>\n",
              "      <td>1</td>\n",
              "    </tr>\n",
              "    <tr>\n",
              "      <th>12</th>\n",
              "      <td>0.137343</td>\n",
              "      <td>0.124263</td>\n",
              "      <td>0.083145</td>\n",
              "      <td>0.209227</td>\n",
              "      <td>0.126082</td>\n",
              "      <td>1.378728</td>\n",
              "      <td>5.008952</td>\n",
              "      <td>0.963514</td>\n",
              "      <td>0.736150</td>\n",
              "      <td>0.108434</td>\n",
              "      <td>0.137343</td>\n",
              "      <td>0.092644</td>\n",
              "      <td>0.016789</td>\n",
              "      <td>0.213333</td>\n",
              "      <td>0.481671</td>\n",
              "      <td>0.015625</td>\n",
              "      <td>5.015625</td>\n",
              "      <td>5.000000</td>\n",
              "      <td>0.088500</td>\n",
              "      <td>1</td>\n",
              "    </tr>\n",
              "    <tr>\n",
              "      <th>13</th>\n",
              "      <td>0.181225</td>\n",
              "      <td>0.190953</td>\n",
              "      <td>0.128839</td>\n",
              "      <td>0.229532</td>\n",
              "      <td>0.100693</td>\n",
              "      <td>1.369430</td>\n",
              "      <td>5.475600</td>\n",
              "      <td>0.937446</td>\n",
              "      <td>0.537080</td>\n",
              "      <td>0.219827</td>\n",
              "      <td>0.181225</td>\n",
              "      <td>0.131504</td>\n",
              "      <td>0.025000</td>\n",
              "      <td>0.275862</td>\n",
              "      <td>1.277114</td>\n",
              "      <td>0.007812</td>\n",
              "      <td>2.804688</td>\n",
              "      <td>2.796875</td>\n",
              "      <td>0.416550</td>\n",
              "      <td>1</td>\n",
              "    </tr>\n",
              "    <tr>\n",
              "      <th>14</th>\n",
              "      <td>0.183115</td>\n",
              "      <td>0.191233</td>\n",
              "      <td>0.129149</td>\n",
              "      <td>0.240152</td>\n",
              "      <td>0.111004</td>\n",
              "      <td>3.568104</td>\n",
              "      <td>35.384748</td>\n",
              "      <td>0.940333</td>\n",
              "      <td>0.571394</td>\n",
              "      <td>0.049987</td>\n",
              "      <td>0.183115</td>\n",
              "      <td>0.102799</td>\n",
              "      <td>0.020833</td>\n",
              "      <td>0.275862</td>\n",
              "      <td>1.245739</td>\n",
              "      <td>0.203125</td>\n",
              "      <td>6.742188</td>\n",
              "      <td>6.539062</td>\n",
              "      <td>0.139332</td>\n",
              "      <td>1</td>\n",
              "    </tr>\n",
              "    <tr>\n",
              "      <th>15</th>\n",
              "      <td>0.174272</td>\n",
              "      <td>0.190874</td>\n",
              "      <td>0.115602</td>\n",
              "      <td>0.228279</td>\n",
              "      <td>0.112677</td>\n",
              "      <td>4.485038</td>\n",
              "      <td>61.764908</td>\n",
              "      <td>0.950972</td>\n",
              "      <td>0.635199</td>\n",
              "      <td>0.050027</td>\n",
              "      <td>0.174272</td>\n",
              "      <td>0.102046</td>\n",
              "      <td>0.018328</td>\n",
              "      <td>0.246154</td>\n",
              "      <td>1.621299</td>\n",
              "      <td>0.007812</td>\n",
              "      <td>7.000000</td>\n",
              "      <td>6.992188</td>\n",
              "      <td>0.209311</td>\n",
              "      <td>1</td>\n",
              "    </tr>\n",
              "    <tr>\n",
              "      <th>16</th>\n",
              "      <td>0.190846</td>\n",
              "      <td>0.207951</td>\n",
              "      <td>0.132280</td>\n",
              "      <td>0.244357</td>\n",
              "      <td>0.112076</td>\n",
              "      <td>1.562304</td>\n",
              "      <td>7.834350</td>\n",
              "      <td>0.938546</td>\n",
              "      <td>0.538810</td>\n",
              "      <td>0.050129</td>\n",
              "      <td>0.190846</td>\n",
              "      <td>0.113323</td>\n",
              "      <td>0.017544</td>\n",
              "      <td>0.275862</td>\n",
              "      <td>1.434115</td>\n",
              "      <td>0.007812</td>\n",
              "      <td>6.320312</td>\n",
              "      <td>6.312500</td>\n",
              "      <td>0.254780</td>\n",
              "      <td>1</td>\n",
              "    </tr>\n",
              "    <tr>\n",
              "      <th>17</th>\n",
              "      <td>0.171247</td>\n",
              "      <td>0.152807</td>\n",
              "      <td>0.122391</td>\n",
              "      <td>0.243617</td>\n",
              "      <td>0.121227</td>\n",
              "      <td>3.207170</td>\n",
              "      <td>25.765565</td>\n",
              "      <td>0.936954</td>\n",
              "      <td>0.586420</td>\n",
              "      <td>0.059958</td>\n",
              "      <td>0.171247</td>\n",
              "      <td>0.079718</td>\n",
              "      <td>0.015671</td>\n",
              "      <td>0.262295</td>\n",
              "      <td>0.106279</td>\n",
              "      <td>0.007812</td>\n",
              "      <td>0.570312</td>\n",
              "      <td>0.562500</td>\n",
              "      <td>0.138355</td>\n",
              "      <td>1</td>\n",
              "    </tr>\n",
              "    <tr>\n",
              "      <th>18</th>\n",
              "      <td>0.168346</td>\n",
              "      <td>0.145618</td>\n",
              "      <td>0.115756</td>\n",
              "      <td>0.239824</td>\n",
              "      <td>0.124068</td>\n",
              "      <td>2.704335</td>\n",
              "      <td>18.484703</td>\n",
              "      <td>0.934523</td>\n",
              "      <td>0.559742</td>\n",
              "      <td>0.060033</td>\n",
              "      <td>0.168346</td>\n",
              "      <td>0.083484</td>\n",
              "      <td>0.015717</td>\n",
              "      <td>0.231884</td>\n",
              "      <td>0.146563</td>\n",
              "      <td>0.007812</td>\n",
              "      <td>3.125000</td>\n",
              "      <td>3.117188</td>\n",
              "      <td>0.059537</td>\n",
              "      <td>1</td>\n",
              "    </tr>\n",
              "    <tr>\n",
              "      <th>19</th>\n",
              "      <td>0.173631</td>\n",
              "      <td>0.153569</td>\n",
              "      <td>0.123680</td>\n",
              "      <td>0.244234</td>\n",
              "      <td>0.120554</td>\n",
              "      <td>2.804975</td>\n",
              "      <td>20.857543</td>\n",
              "      <td>0.930917</td>\n",
              "      <td>0.518269</td>\n",
              "      <td>0.060027</td>\n",
              "      <td>0.173631</td>\n",
              "      <td>0.090130</td>\n",
              "      <td>0.015702</td>\n",
              "      <td>0.210526</td>\n",
              "      <td>0.193044</td>\n",
              "      <td>0.007812</td>\n",
              "      <td>2.820312</td>\n",
              "      <td>2.812500</td>\n",
              "      <td>0.068124</td>\n",
              "      <td>1</td>\n",
              "    </tr>\n",
              "    <tr>\n",
              "      <th>20</th>\n",
              "      <td>0.172754</td>\n",
              "      <td>0.177736</td>\n",
              "      <td>0.120070</td>\n",
              "      <td>0.245368</td>\n",
              "      <td>0.125298</td>\n",
              "      <td>2.967765</td>\n",
              "      <td>20.078115</td>\n",
              "      <td>0.925539</td>\n",
              "      <td>0.523081</td>\n",
              "      <td>0.059953</td>\n",
              "      <td>0.172754</td>\n",
              "      <td>0.093574</td>\n",
              "      <td>0.015764</td>\n",
              "      <td>0.200000</td>\n",
              "      <td>0.235877</td>\n",
              "      <td>0.007812</td>\n",
              "      <td>0.718750</td>\n",
              "      <td>0.710938</td>\n",
              "      <td>0.235069</td>\n",
              "      <td>1</td>\n",
              "    </tr>\n",
              "    <tr>\n",
              "      <th>21</th>\n",
              "      <td>0.181015</td>\n",
              "      <td>0.169299</td>\n",
              "      <td>0.128673</td>\n",
              "      <td>0.254175</td>\n",
              "      <td>0.125502</td>\n",
              "      <td>2.587325</td>\n",
              "      <td>12.281432</td>\n",
              "      <td>0.915284</td>\n",
              "      <td>0.475317</td>\n",
              "      <td>0.059957</td>\n",
              "      <td>0.181015</td>\n",
              "      <td>0.098643</td>\n",
              "      <td>0.016145</td>\n",
              "      <td>0.275862</td>\n",
              "      <td>0.209844</td>\n",
              "      <td>0.007812</td>\n",
              "      <td>3.695312</td>\n",
              "      <td>3.687500</td>\n",
              "      <td>0.059940</td>\n",
              "      <td>1</td>\n",
              "    </tr>\n",
              "    <tr>\n",
              "      <th>22</th>\n",
              "      <td>0.163536</td>\n",
              "      <td>0.145543</td>\n",
              "      <td>0.113930</td>\n",
              "      <td>0.227449</td>\n",
              "      <td>0.113519</td>\n",
              "      <td>3.587650</td>\n",
              "      <td>28.653781</td>\n",
              "      <td>0.927015</td>\n",
              "      <td>0.542422</td>\n",
              "      <td>0.059941</td>\n",
              "      <td>0.163536</td>\n",
              "      <td>0.062542</td>\n",
              "      <td>0.015686</td>\n",
              "      <td>0.197531</td>\n",
              "      <td>0.059622</td>\n",
              "      <td>0.007812</td>\n",
              "      <td>0.445312</td>\n",
              "      <td>0.437500</td>\n",
              "      <td>0.091699</td>\n",
              "      <td>1</td>\n",
              "    </tr>\n",
              "    <tr>\n",
              "      <th>23</th>\n",
              "      <td>0.170213</td>\n",
              "      <td>0.146053</td>\n",
              "      <td>0.123989</td>\n",
              "      <td>0.250126</td>\n",
              "      <td>0.126137</td>\n",
              "      <td>2.816793</td>\n",
              "      <td>13.764582</td>\n",
              "      <td>0.913832</td>\n",
              "      <td>0.487966</td>\n",
              "      <td>0.059944</td>\n",
              "      <td>0.170213</td>\n",
              "      <td>0.077698</td>\n",
              "      <td>0.015702</td>\n",
              "      <td>0.192771</td>\n",
              "      <td>0.101562</td>\n",
              "      <td>0.007812</td>\n",
              "      <td>0.562500</td>\n",
              "      <td>0.554688</td>\n",
              "      <td>0.161791</td>\n",
              "      <td>1</td>\n",
              "    </tr>\n",
              "    <tr>\n",
              "      <th>24</th>\n",
              "      <td>0.160422</td>\n",
              "      <td>0.144824</td>\n",
              "      <td>0.120924</td>\n",
              "      <td>0.237244</td>\n",
              "      <td>0.116319</td>\n",
              "      <td>6.253208</td>\n",
              "      <td>85.491926</td>\n",
              "      <td>0.933030</td>\n",
              "      <td>0.567424</td>\n",
              "      <td>0.060078</td>\n",
              "      <td>0.160422</td>\n",
              "      <td>0.098944</td>\n",
              "      <td>0.016097</td>\n",
              "      <td>0.275862</td>\n",
              "      <td>0.206756</td>\n",
              "      <td>0.007812</td>\n",
              "      <td>3.953125</td>\n",
              "      <td>3.945312</td>\n",
              "      <td>0.073890</td>\n",
              "      <td>1</td>\n",
              "    </tr>\n",
              "    <tr>\n",
              "      <th>25</th>\n",
              "      <td>0.164700</td>\n",
              "      <td>0.147018</td>\n",
              "      <td>0.118698</td>\n",
              "      <td>0.240475</td>\n",
              "      <td>0.121777</td>\n",
              "      <td>4.208608</td>\n",
              "      <td>43.681885</td>\n",
              "      <td>0.940669</td>\n",
              "      <td>0.604020</td>\n",
              "      <td>0.059965</td>\n",
              "      <td>0.164700</td>\n",
              "      <td>0.082963</td>\n",
              "      <td>0.015640</td>\n",
              "      <td>0.253968</td>\n",
              "      <td>0.143353</td>\n",
              "      <td>0.007812</td>\n",
              "      <td>1.062500</td>\n",
              "      <td>1.054688</td>\n",
              "      <td>0.125926</td>\n",
              "      <td>1</td>\n",
              "    </tr>\n",
              "    <tr>\n",
              "      <th>26</th>\n",
              "      <td>0.169579</td>\n",
              "      <td>0.186468</td>\n",
              "      <td>0.116706</td>\n",
              "      <td>0.238549</td>\n",
              "      <td>0.121843</td>\n",
              "      <td>4.269923</td>\n",
              "      <td>45.895248</td>\n",
              "      <td>0.929498</td>\n",
              "      <td>0.543709</td>\n",
              "      <td>0.059966</td>\n",
              "      <td>0.169579</td>\n",
              "      <td>0.082451</td>\n",
              "      <td>0.016211</td>\n",
              "      <td>0.271186</td>\n",
              "      <td>0.148438</td>\n",
              "      <td>0.007812</td>\n",
              "      <td>3.609375</td>\n",
              "      <td>3.601562</td>\n",
              "      <td>0.050841</td>\n",
              "      <td>1</td>\n",
              "    </tr>\n",
              "    <tr>\n",
              "      <th>27</th>\n",
              "      <td>0.169021</td>\n",
              "      <td>0.143168</td>\n",
              "      <td>0.125801</td>\n",
              "      <td>0.248315</td>\n",
              "      <td>0.122515</td>\n",
              "      <td>3.079273</td>\n",
              "      <td>14.340299</td>\n",
              "      <td>0.902275</td>\n",
              "      <td>0.477746</td>\n",
              "      <td>0.128148</td>\n",
              "      <td>0.169021</td>\n",
              "      <td>0.130598</td>\n",
              "      <td>0.015842</td>\n",
              "      <td>0.225352</td>\n",
              "      <td>0.335313</td>\n",
              "      <td>0.007812</td>\n",
              "      <td>0.710938</td>\n",
              "      <td>0.703125</td>\n",
              "      <td>0.397354</td>\n",
              "      <td>1</td>\n",
              "    </tr>\n",
              "    <tr>\n",
              "      <th>28</th>\n",
              "      <td>0.167340</td>\n",
              "      <td>0.141739</td>\n",
              "      <td>0.122174</td>\n",
              "      <td>0.240000</td>\n",
              "      <td>0.117826</td>\n",
              "      <td>2.192126</td>\n",
              "      <td>8.152410</td>\n",
              "      <td>0.913763</td>\n",
              "      <td>0.539479</td>\n",
              "      <td>0.134783</td>\n",
              "      <td>0.167340</td>\n",
              "      <td>0.120052</td>\n",
              "      <td>0.016244</td>\n",
              "      <td>0.262295</td>\n",
              "      <td>0.298678</td>\n",
              "      <td>0.007812</td>\n",
              "      <td>0.679688</td>\n",
              "      <td>0.671875</td>\n",
              "      <td>0.384778</td>\n",
              "      <td>1</td>\n",
              "    </tr>\n",
              "    <tr>\n",
              "      <th>29</th>\n",
              "      <td>0.180528</td>\n",
              "      <td>0.142385</td>\n",
              "      <td>0.129541</td>\n",
              "      <td>0.252477</td>\n",
              "      <td>0.122936</td>\n",
              "      <td>2.799969</td>\n",
              "      <td>12.190361</td>\n",
              "      <td>0.853115</td>\n",
              "      <td>0.313426</td>\n",
              "      <td>0.133578</td>\n",
              "      <td>0.180528</td>\n",
              "      <td>0.126607</td>\n",
              "      <td>0.017039</td>\n",
              "      <td>0.177778</td>\n",
              "      <td>0.234863</td>\n",
              "      <td>0.007812</td>\n",
              "      <td>0.507812</td>\n",
              "      <td>0.500000</td>\n",
              "      <td>0.329241</td>\n",
              "      <td>1</td>\n",
              "    </tr>\n",
              "  </tbody>\n",
              "</table>\n",
              "</div>"
            ],
            "text/plain": [
              "    meanfreq    median       Q25       Q75  ...    maxdom   dfrange   modindx  label\n",
              "0   0.059781  0.032027  0.015071  0.090193  ...  0.007812  0.000000  0.000000      1\n",
              "1   0.066009  0.040229  0.019414  0.092666  ...  0.054688  0.046875  0.052632      1\n",
              "2   0.077316  0.036718  0.008701  0.131908  ...  0.015625  0.007812  0.046512      1\n",
              "3   0.151228  0.158011  0.096582  0.207955  ...  0.562500  0.554688  0.247119      1\n",
              "4   0.135120  0.124656  0.078720  0.206045  ...  5.484375  5.476562  0.208274      1\n",
              "5   0.132786  0.119090  0.067958  0.209592  ...  2.726562  2.718750  0.125160      1\n",
              "6   0.150762  0.160106  0.092899  0.205718  ...  5.312500  5.304688  0.123992      1\n",
              "7   0.160514  0.144337  0.110532  0.231962  ...  0.539062  0.531250  0.283937      1\n",
              "8   0.142239  0.138587  0.088206  0.208587  ...  2.164062  2.156250  0.148272      1\n",
              "9   0.134329  0.121451  0.075580  0.201957  ...  4.695312  4.679688  0.089920      1\n",
              "10  0.157021  0.168160  0.101430  0.216740  ...  2.812500  2.804688  0.200000      1\n",
              "11  0.138551  0.127527  0.087314  0.202739  ...  2.718750  2.710938  0.132351      1\n",
              "12  0.137343  0.124263  0.083145  0.209227  ...  5.015625  5.000000  0.088500      1\n",
              "13  0.181225  0.190953  0.128839  0.229532  ...  2.804688  2.796875  0.416550      1\n",
              "14  0.183115  0.191233  0.129149  0.240152  ...  6.742188  6.539062  0.139332      1\n",
              "15  0.174272  0.190874  0.115602  0.228279  ...  7.000000  6.992188  0.209311      1\n",
              "16  0.190846  0.207951  0.132280  0.244357  ...  6.320312  6.312500  0.254780      1\n",
              "17  0.171247  0.152807  0.122391  0.243617  ...  0.570312  0.562500  0.138355      1\n",
              "18  0.168346  0.145618  0.115756  0.239824  ...  3.125000  3.117188  0.059537      1\n",
              "19  0.173631  0.153569  0.123680  0.244234  ...  2.820312  2.812500  0.068124      1\n",
              "20  0.172754  0.177736  0.120070  0.245368  ...  0.718750  0.710938  0.235069      1\n",
              "21  0.181015  0.169299  0.128673  0.254175  ...  3.695312  3.687500  0.059940      1\n",
              "22  0.163536  0.145543  0.113930  0.227449  ...  0.445312  0.437500  0.091699      1\n",
              "23  0.170213  0.146053  0.123989  0.250126  ...  0.562500  0.554688  0.161791      1\n",
              "24  0.160422  0.144824  0.120924  0.237244  ...  3.953125  3.945312  0.073890      1\n",
              "25  0.164700  0.147018  0.118698  0.240475  ...  1.062500  1.054688  0.125926      1\n",
              "26  0.169579  0.186468  0.116706  0.238549  ...  3.609375  3.601562  0.050841      1\n",
              "27  0.169021  0.143168  0.125801  0.248315  ...  0.710938  0.703125  0.397354      1\n",
              "28  0.167340  0.141739  0.122174  0.240000  ...  0.679688  0.671875  0.384778      1\n",
              "29  0.180528  0.142385  0.129541  0.252477  ...  0.507812  0.500000  0.329241      1\n",
              "\n",
              "[30 rows x 20 columns]"
            ]
          },
          "metadata": {
            "tags": []
          },
          "execution_count": 354
        }
      ]
    },
    {
      "cell_type": "code",
      "metadata": {
        "id": "kPCMzTyoPR7j",
        "colab_type": "code",
        "colab": {}
      },
      "source": [
        "import matplotlib.pyplot as plt\n"
      ],
      "execution_count": null,
      "outputs": []
    },
    {
      "cell_type": "code",
      "metadata": {
        "id": "0m202YRKRukH",
        "colab_type": "code",
        "colab": {
          "base_uri": "https://localhost:8080/",
          "height": 404
        },
        "outputId": "4bf5645a-4823-41a4-cc94-4cc4bc3ec7e9"
      },
      "source": [
        "plt.hist(dados['Q75'])\n",
        "plt.xlabel('Classes')\n",
        "plt.ylabel('Qualidade')\n",
        "plt.title('Ocorrências das Classes')\n",
        "plt.grid(True)\n",
        "plt.show()"
      ],
      "execution_count": null,
      "outputs": [
        {
          "output_type": "display_data",
          "data": {
            "image/png": "[encoded data removed]",
            "text/plain": [
              "<Figure size 576x432 with 1 Axes>"
            ]
          },
          "metadata": {
            "tags": [],
            "needs_background": "light"
          }
        }
      ]
    },
    {
      "cell_type": "code",
      "metadata": {
        "id": "SkBbrxSqVvrn",
        "colab_type": "code",
        "colab": {
          "base_uri": "https://localhost:8080/",
          "height": 54
        },
        "outputId": "f4442e0f-8e9c-4d9e-8c74-b546e37727f7"
      },
      "source": [
        "print('Masculino:',dados[dados['label']==0].shape[0])\n",
        "print('Masculina:',dados[dados['label']==1].shape[0])\n"
      ],
      "execution_count": null,
      "outputs": [
        {
          "output_type": "stream",
          "text": [
            "Masculino: 1584\n",
            "Masculina: 1584\n"
          ],
          "name": "stdout"
        }
      ]
    },
    {
      "cell_type": "code",
      "metadata": {
        "id": "DDfNOUp1XNSW",
        "colab_type": "code",
        "colab": {
          "base_uri": "https://localhost:8080/",
          "height": 390
        },
        "outputId": "6873c003-dd0d-4e63-e498-5874ac3e942a"
      },
      "source": [
        "plt.hist(dados['centroid'],10)\n",
        "plt.ylabel('Quantidade')\n",
        "plt.title('Ocorrências do Atributo Raio')\n",
        "plt.grid(True)\n",
        "plt.show()"
      ],
      "execution_count": null,
      "outputs": [
        {
          "output_type": "display_data",
          "data": {
            "image/png": "[encoded data removed]",
            "text/plain": [
              "<Figure size 576x432 with 1 Axes>"
            ]
          },
          "metadata": {
            "tags": [],
            "needs_background": "light"
          }
        }
      ]
    },
    {
      "cell_type": "code",
      "metadata": {
        "id": "IIMI6RNnYoQt",
        "colab_type": "code",
        "colab": {
          "base_uri": "https://localhost:8080/",
          "height": 404
        },
        "outputId": "325adf14-684c-429e-8c0f-0c70a7c6899f"
      },
      "source": [
        "import seaborn as sns\n",
        "\n",
        "sns.distplot(dados.centroid, hist=False, rug=False,label='masculina')\n",
        "plt.ylabel('Probabilidades')\n",
        "plt.title('Ocorrências do Atributo Raio')\n",
        "plt.show()\n"
      ],
      "execution_count": null,
      "outputs": [
        {
          "output_type": "display_data",
          "data": {
            "image/png": "[encoded data removed]",
            "text/plain": [
              "<Figure size 576x432 with 1 Axes>"
            ]
          },
          "metadata": {
            "tags": [],
            "needs_background": "light"
          }
        }
      ]
    },
    {
      "cell_type": "code",
      "metadata": {
        "id": "O72RCB6kdbwM",
        "colab_type": "code",
        "colab": {
          "base_uri": "https://localhost:8080/",
          "height": 404
        },
        "outputId": "1d0b6b51-bbef-43d7-cf71-4c802b365548"
      },
      "source": [
        "plt.boxplot(dados.meanfreq)\n",
        "plt.title('Boxplot da Textura média')\n",
        "plt.xlabel ('textura')\n",
        "plt.grid()\n",
        "plt.show()"
      ],
      "execution_count": null,
      "outputs": [
        {
          "output_type": "display_data",
          "data": {
            "image/png": "[encoded data removed]",
            "text/plain": [
              "<Figure size 576x432 with 1 Axes>"
            ]
          },
          "metadata": {
            "tags": [],
            "needs_background": "light"
          }
        }
      ]
    },
    {
      "cell_type": "code",
      "metadata": {
        "id": "WSTDgfW3eoJP",
        "colab_type": "code",
        "colab": {}
      },
      "source": [
        "masculino = dados[dados['label']==0].drop(columns=['label']).reset_index(drop=True)\n"
      ],
      "execution_count": null,
      "outputs": []
    },
    {
      "cell_type": "code",
      "metadata": {
        "id": "akLmn6AUfM1j",
        "colab_type": "code",
        "colab": {}
      },
      "source": [
        "masculina = dados[dados['label']==1].drop(columns=['label']).reset_index(drop=True)"
      ],
      "execution_count": null,
      "outputs": []
    },
    {
      "cell_type": "code",
      "metadata": {
        "id": "OMwto_uqfkkZ",
        "colab_type": "code",
        "colab": {
          "base_uri": "https://localhost:8080/",
          "height": 390
        },
        "outputId": "631cc86c-5b86-4e9e-b722-1fafef43cbb2"
      },
      "source": [
        "masculino.boxplot()\n",
        "plt.title('Box plot dos atributos dos nódulos masculino')\n",
        "plt.show()"
      ],
      "execution_count": null,
      "outputs": [
        {
          "output_type": "display_data",
          "data": {
            "image/png": "[encoded data removed]",
            "text/plain": [
              "<Figure size 576x432 with 1 Axes>"
            ]
          },
          "metadata": {
            "tags": [],
            "needs_background": "light"
          }
        }
      ]
    },
    {
      "cell_type": "code",
      "metadata": {
        "id": "Pwz6FCmXhrX2",
        "colab_type": "code",
        "colab": {
          "base_uri": "https://localhost:8080/",
          "height": 390
        },
        "outputId": "38b7216a-f192-4e46-a038-86d62926b092"
      },
      "source": [
        "masculina.boxplot()\n",
        "plt.title('Box plot dos atributos dos nódulos masculina')\n",
        "plt.show()"
      ],
      "execution_count": null,
      "outputs": [
        {
          "output_type": "display_data",
          "data": {
            "image/png": "[encoded data removed]",
            "text/plain": [
              "<Figure size 576x432 with 1 Axes>"
            ]
          },
          "metadata": {
            "tags": [],
            "needs_background": "light"
          }
        }
      ]
    },
    {
      "cell_type": "code",
      "metadata": {
        "id": "yzkVJJmciUSi",
        "colab_type": "code",
        "colab": {
          "base_uri": "https://localhost:8080/",
          "height": 404
        },
        "outputId": "1572a657-fc44-4081-b5e6-008ec8e769dd"
      },
      "source": [
        "plt.boxplot([masculina.centroid,masculino.centroid],labels=['masculina','masculino'])\n",
        "plt.xlabel('Classes')\n",
        "plt.ylabel('Área média')\n",
        "plt.title('Área dos nódulos')\n",
        "plt.show()"
      ],
      "execution_count": null,
      "outputs": [
        {
          "output_type": "display_data",
          "data": {
            "image/png": "[encoded data removed]",
            "text/plain": [
              "<Figure size 576x432 with 1 Axes>"
            ]
          },
          "metadata": {
            "tags": [],
            "needs_background": "light"
          }
        }
      ]
    },
    {
      "cell_type": "code",
      "metadata": {
        "id": "8df0fVJZfcXT",
        "colab_type": "code",
        "colab": {
          "base_uri": "https://localhost:8080/",
          "height": 404
        },
        "outputId": "f0a51a2e-51b1-4b7f-8648-b138fd1ade8f"
      },
      "source": [
        "sns.distplot(masculino.centroid, hist=False, rug=False,label='masculino')\n",
        "sns.distplot(masculina.centroid, hist=False, rug=False,label='masculina')\n",
        "plt.xlabel('Área média')\n",
        "plt.ylabel('Probabilidades')\n",
        "plt.title('Área dos nódulos')\n",
        "plt.show()"
      ],
      "execution_count": null,
      "outputs": [
        {
          "output_type": "display_data",
          "data": {
            "image/png": "[encoded data removed]",
            "text/plain": [
              "<Figure size 576x432 with 1 Axes>"
            ]
          },
          "metadata": {
            "tags": [],
            "needs_background": "light"
          }
        }
      ]
    },
    {
      "cell_type": "code",
      "metadata": {
        "id": "CZDHX_hxu7LZ",
        "colab_type": "code",
        "colab": {
          "base_uri": "https://localhost:8080/",
          "height": 226
        },
        "outputId": "db4e837c-7068-4dcc-f6fc-da5cf1d16813"
      },
      "source": [
        "X = dados.iloc[:,1:]\n",
        "X.head()"
      ],
      "execution_count": null,
      "outputs": [
        {
          "output_type": "execute_result",
          "data": {
            "text/html": [
              "<div>\n",
              "<style scoped>\n",
              "    .dataframe tbody tr th:only-of-type {\n",
              "        vertical-align: middle;\n",
              "    }\n",
              "\n",
              "    .dataframe tbody tr th {\n",
              "        vertical-align: top;\n",
              "    }\n",
              "\n",
              "    .dataframe thead th {\n",
              "        text-align: right;\n",
              "    }\n",
              "</style>\n",
              "<table border=\"1\" class=\"dataframe\">\n",
              "  <thead>\n",
              "    <tr style=\"text-align: right;\">\n",
              "      <th></th>\n",
              "      <th>median</th>\n",
              "      <th>Q25</th>\n",
              "      <th>Q75</th>\n",
              "      <th>IQR</th>\n",
              "      <th>skew</th>\n",
              "      <th>kurt</th>\n",
              "      <th>sp.ent</th>\n",
              "      <th>sfm</th>\n",
              "      <th>mode</th>\n",
              "      <th>centroid</th>\n",
              "      <th>meanfun</th>\n",
              "      <th>minfun</th>\n",
              "      <th>maxfun</th>\n",
              "      <th>meandom</th>\n",
              "      <th>mindom</th>\n",
              "      <th>maxdom</th>\n",
              "      <th>dfrange</th>\n",
              "      <th>modindx</th>\n",
              "      <th>label</th>\n",
              "    </tr>\n",
              "  </thead>\n",
              "  <tbody>\n",
              "    <tr>\n",
              "      <th>0</th>\n",
              "      <td>0.032027</td>\n",
              "      <td>0.015071</td>\n",
              "      <td>0.090193</td>\n",
              "      <td>0.075122</td>\n",
              "      <td>12.863462</td>\n",
              "      <td>274.402906</td>\n",
              "      <td>0.893369</td>\n",
              "      <td>0.491918</td>\n",
              "      <td>0.000000</td>\n",
              "      <td>0.059781</td>\n",
              "      <td>0.084279</td>\n",
              "      <td>0.015702</td>\n",
              "      <td>0.275862</td>\n",
              "      <td>0.007812</td>\n",
              "      <td>0.007812</td>\n",
              "      <td>0.007812</td>\n",
              "      <td>0.000000</td>\n",
              "      <td>0.000000</td>\n",
              "      <td>1</td>\n",
              "    </tr>\n",
              "    <tr>\n",
              "      <th>1</th>\n",
              "      <td>0.040229</td>\n",
              "      <td>0.019414</td>\n",
              "      <td>0.092666</td>\n",
              "      <td>0.073252</td>\n",
              "      <td>22.423285</td>\n",
              "      <td>634.613855</td>\n",
              "      <td>0.892193</td>\n",
              "      <td>0.513724</td>\n",
              "      <td>0.000000</td>\n",
              "      <td>0.066009</td>\n",
              "      <td>0.107937</td>\n",
              "      <td>0.015826</td>\n",
              "      <td>0.250000</td>\n",
              "      <td>0.009014</td>\n",
              "      <td>0.007812</td>\n",
              "      <td>0.054688</td>\n",
              "      <td>0.046875</td>\n",
              "      <td>0.052632</td>\n",
              "      <td>1</td>\n",
              "    </tr>\n",
              "    <tr>\n",
              "      <th>2</th>\n",
              "      <td>0.036718</td>\n",
              "      <td>0.008701</td>\n",
              "      <td>0.131908</td>\n",
              "      <td>0.123207</td>\n",
              "      <td>30.757155</td>\n",
              "      <td>1024.927705</td>\n",
              "      <td>0.846389</td>\n",
              "      <td>0.478905</td>\n",
              "      <td>0.000000</td>\n",
              "      <td>0.077316</td>\n",
              "      <td>0.098706</td>\n",
              "      <td>0.015656</td>\n",
              "      <td>0.271186</td>\n",
              "      <td>0.007990</td>\n",
              "      <td>0.007812</td>\n",
              "      <td>0.015625</td>\n",
              "      <td>0.007812</td>\n",
              "      <td>0.046512</td>\n",
              "      <td>1</td>\n",
              "    </tr>\n",
              "    <tr>\n",
              "      <th>3</th>\n",
              "      <td>0.158011</td>\n",
              "      <td>0.096582</td>\n",
              "      <td>0.207955</td>\n",
              "      <td>0.111374</td>\n",
              "      <td>1.232831</td>\n",
              "      <td>4.177296</td>\n",
              "      <td>0.963322</td>\n",
              "      <td>0.727232</td>\n",
              "      <td>0.083878</td>\n",
              "      <td>0.151228</td>\n",
              "      <td>0.088965</td>\n",
              "      <td>0.017798</td>\n",
              "      <td>0.250000</td>\n",
              "      <td>0.201497</td>\n",
              "      <td>0.007812</td>\n",
              "      <td>0.562500</td>\n",
              "      <td>0.554688</td>\n",
              "      <td>0.247119</td>\n",
              "      <td>1</td>\n",
              "    </tr>\n",
              "    <tr>\n",
              "      <th>4</th>\n",
              "      <td>0.124656</td>\n",
              "      <td>0.078720</td>\n",
              "      <td>0.206045</td>\n",
              "      <td>0.127325</td>\n",
              "      <td>1.101174</td>\n",
              "      <td>4.333713</td>\n",
              "      <td>0.971955</td>\n",
              "      <td>0.783568</td>\n",
              "      <td>0.104261</td>\n",
              "      <td>0.135120</td>\n",
              "      <td>0.106398</td>\n",
              "      <td>0.016931</td>\n",
              "      <td>0.266667</td>\n",
              "      <td>0.712812</td>\n",
              "      <td>0.007812</td>\n",
              "      <td>5.484375</td>\n",
              "      <td>5.476562</td>\n",
              "      <td>0.208274</td>\n",
              "      <td>1</td>\n",
              "    </tr>\n",
              "  </tbody>\n",
              "</table>\n",
              "</div>"
            ],
            "text/plain": [
              "     median       Q25       Q75       IQR  ...    maxdom   dfrange   modindx  label\n",
              "0  0.032027  0.015071  0.090193  0.075122  ...  0.007812  0.000000  0.000000      1\n",
              "1  0.040229  0.019414  0.092666  0.073252  ...  0.054688  0.046875  0.052632      1\n",
              "2  0.036718  0.008701  0.131908  0.123207  ...  0.015625  0.007812  0.046512      1\n",
              "3  0.158011  0.096582  0.207955  0.111374  ...  0.562500  0.554688  0.247119      1\n",
              "4  0.124656  0.078720  0.206045  0.127325  ...  5.484375  5.476562  0.208274      1\n",
              "\n",
              "[5 rows x 19 columns]"
            ]
          },
          "metadata": {
            "tags": []
          },
          "execution_count": 367
        }
      ]
    },
    {
      "cell_type": "code",
      "metadata": {
        "id": "8fpcl1gB-8IL",
        "colab_type": "code",
        "colab": {
          "base_uri": "https://localhost:8080/",
          "height": 127
        },
        "outputId": "8ddef150-9c24-4b0c-8bd1-aa1eb5a2f4dd"
      },
      "source": [
        "y = dados.label\n",
        "y.head()"
      ],
      "execution_count": null,
      "outputs": [
        {
          "output_type": "execute_result",
          "data": {
            "text/plain": [
              "0    1\n",
              "1    1\n",
              "2    1\n",
              "3    1\n",
              "4    1\n",
              "Name: label, dtype: int64"
            ]
          },
          "metadata": {
            "tags": []
          },
          "execution_count": 368
        }
      ]
    },
    {
      "cell_type": "code",
      "metadata": {
        "id": "jYNEHr7ke0z2",
        "colab_type": "code",
        "colab": {}
      },
      "source": [
        "from sklearn.model_selection import train_test_split"
      ],
      "execution_count": null,
      "outputs": []
    },
    {
      "cell_type": "code",
      "metadata": {
        "id": "2GSFJIXTfWmD",
        "colab_type": "code",
        "colab": {}
      },
      "source": [
        "X_train, X_test, y_train, y_test = train_test_split(X,y, test_size= 0.2)"
      ],
      "execution_count": null,
      "outputs": []
    },
    {
      "cell_type": "code",
      "metadata": {
        "id": "s6vtH04nfxTq",
        "colab_type": "code",
        "colab": {
          "base_uri": "https://localhost:8080/",
          "height": 226
        },
        "outputId": "08fa42a1-9842-406b-8d18-c64b2ca1ffc6"
      },
      "source": [
        "X_train.head()"
      ],
      "execution_count": null,
      "outputs": [
        {
          "output_type": "execute_result",
          "data": {
            "text/html": [
              "<div>\n",
              "<style scoped>\n",
              "    .dataframe tbody tr th:only-of-type {\n",
              "        vertical-align: middle;\n",
              "    }\n",
              "\n",
              "    .dataframe tbody tr th {\n",
              "        vertical-align: top;\n",
              "    }\n",
              "\n",
              "    .dataframe thead th {\n",
              "        text-align: right;\n",
              "    }\n",
              "</style>\n",
              "<table border=\"1\" class=\"dataframe\">\n",
              "  <thead>\n",
              "    <tr style=\"text-align: right;\">\n",
              "      <th></th>\n",
              "      <th>median</th>\n",
              "      <th>Q25</th>\n",
              "      <th>Q75</th>\n",
              "      <th>IQR</th>\n",
              "      <th>skew</th>\n",
              "      <th>kurt</th>\n",
              "      <th>sp.ent</th>\n",
              "      <th>sfm</th>\n",
              "      <th>mode</th>\n",
              "      <th>centroid</th>\n",
              "      <th>meanfun</th>\n",
              "      <th>minfun</th>\n",
              "      <th>maxfun</th>\n",
              "      <th>meandom</th>\n",
              "      <th>mindom</th>\n",
              "      <th>maxdom</th>\n",
              "      <th>dfrange</th>\n",
              "      <th>modindx</th>\n",
              "      <th>label</th>\n",
              "    </tr>\n",
              "  </thead>\n",
              "  <tbody>\n",
              "    <tr>\n",
              "      <th>909</th>\n",
              "      <td>0.183623</td>\n",
              "      <td>0.125290</td>\n",
              "      <td>0.254638</td>\n",
              "      <td>0.129348</td>\n",
              "      <td>1.976600</td>\n",
              "      <td>6.734309</td>\n",
              "      <td>0.927683</td>\n",
              "      <td>0.551486</td>\n",
              "      <td>0.247536</td>\n",
              "      <td>0.181560</td>\n",
              "      <td>0.132376</td>\n",
              "      <td>0.052174</td>\n",
              "      <td>0.271186</td>\n",
              "      <td>0.472005</td>\n",
              "      <td>0.023438</td>\n",
              "      <td>4.382812</td>\n",
              "      <td>4.359375</td>\n",
              "      <td>0.059140</td>\n",
              "      <td>1</td>\n",
              "    </tr>\n",
              "    <tr>\n",
              "      <th>1937</th>\n",
              "      <td>0.198322</td>\n",
              "      <td>0.129190</td>\n",
              "      <td>0.221277</td>\n",
              "      <td>0.092088</td>\n",
              "      <td>5.404310</td>\n",
              "      <td>64.416052</td>\n",
              "      <td>0.896396</td>\n",
              "      <td>0.446445</td>\n",
              "      <td>0.000000</td>\n",
              "      <td>0.169752</td>\n",
              "      <td>0.170038</td>\n",
              "      <td>0.023222</td>\n",
              "      <td>0.275862</td>\n",
              "      <td>0.099946</td>\n",
              "      <td>0.007812</td>\n",
              "      <td>0.453125</td>\n",
              "      <td>0.445312</td>\n",
              "      <td>0.238095</td>\n",
              "      <td>0</td>\n",
              "    </tr>\n",
              "    <tr>\n",
              "      <th>2582</th>\n",
              "      <td>0.242274</td>\n",
              "      <td>0.225179</td>\n",
              "      <td>0.252295</td>\n",
              "      <td>0.027116</td>\n",
              "      <td>3.118138</td>\n",
              "      <td>14.542172</td>\n",
              "      <td>0.794103</td>\n",
              "      <td>0.094676</td>\n",
              "      <td>0.241684</td>\n",
              "      <td>0.238049</td>\n",
              "      <td>0.213065</td>\n",
              "      <td>0.051010</td>\n",
              "      <td>0.279070</td>\n",
              "      <td>0.718750</td>\n",
              "      <td>0.023438</td>\n",
              "      <td>11.882812</td>\n",
              "      <td>11.859375</td>\n",
              "      <td>0.069519</td>\n",
              "      <td>0</td>\n",
              "    </tr>\n",
              "    <tr>\n",
              "      <th>100</th>\n",
              "      <td>0.109892</td>\n",
              "      <td>0.060215</td>\n",
              "      <td>0.192688</td>\n",
              "      <td>0.132473</td>\n",
              "      <td>22.400866</td>\n",
              "      <td>560.122789</td>\n",
              "      <td>0.854878</td>\n",
              "      <td>0.505371</td>\n",
              "      <td>0.000000</td>\n",
              "      <td>0.119977</td>\n",
              "      <td>0.081201</td>\n",
              "      <td>0.015795</td>\n",
              "      <td>0.262295</td>\n",
              "      <td>0.007812</td>\n",
              "      <td>0.007812</td>\n",
              "      <td>0.007812</td>\n",
              "      <td>0.000000</td>\n",
              "      <td>0.000000</td>\n",
              "      <td>1</td>\n",
              "    </tr>\n",
              "    <tr>\n",
              "      <th>255</th>\n",
              "      <td>0.109826</td>\n",
              "      <td>0.000286</td>\n",
              "      <td>0.186476</td>\n",
              "      <td>0.186190</td>\n",
              "      <td>24.706226</td>\n",
              "      <td>649.577215</td>\n",
              "      <td>0.802274</td>\n",
              "      <td>0.468390</td>\n",
              "      <td>0.000000</td>\n",
              "      <td>0.112516</td>\n",
              "      <td>0.075519</td>\n",
              "      <td>0.016097</td>\n",
              "      <td>0.262295</td>\n",
              "      <td>0.007812</td>\n",
              "      <td>0.007812</td>\n",
              "      <td>0.007812</td>\n",
              "      <td>0.000000</td>\n",
              "      <td>0.000000</td>\n",
              "      <td>1</td>\n",
              "    </tr>\n",
              "  </tbody>\n",
              "</table>\n",
              "</div>"
            ],
            "text/plain": [
              "        median       Q25       Q75  ...    dfrange   modindx  label\n",
              "909   0.183623  0.125290  0.254638  ...   4.359375  0.059140      1\n",
              "1937  0.198322  0.129190  0.221277  ...   0.445312  0.238095      0\n",
              "2582  0.242274  0.225179  0.252295  ...  11.859375  0.069519      0\n",
              "100   0.109892  0.060215  0.192688  ...   0.000000  0.000000      1\n",
              "255   0.109826  0.000286  0.186476  ...   0.000000  0.000000      1\n",
              "\n",
              "[5 rows x 19 columns]"
            ]
          },
          "metadata": {
            "tags": []
          },
          "execution_count": 371
        }
      ]
    },
    {
      "cell_type": "code",
      "metadata": {
        "id": "xyBBrh2Gf6GL",
        "colab_type": "code",
        "colab": {
          "base_uri": "https://localhost:8080/",
          "height": 127
        },
        "outputId": "94bade66-d63b-4ca3-c43b-113329f6eb95"
      },
      "source": [
        "y_train.head()"
      ],
      "execution_count": null,
      "outputs": [
        {
          "output_type": "execute_result",
          "data": {
            "text/plain": [
              "909     1\n",
              "1937    0\n",
              "2582    0\n",
              "100     1\n",
              "255     1\n",
              "Name: label, dtype: int64"
            ]
          },
          "metadata": {
            "tags": []
          },
          "execution_count": 372
        }
      ]
    },
    {
      "cell_type": "code",
      "metadata": {
        "id": "lTk5T7qBgn40",
        "colab_type": "code",
        "colab": {}
      },
      "source": [
        "from sklearn.tree import DecisionTreeClassifier"
      ],
      "execution_count": null,
      "outputs": []
    },
    {
      "cell_type": "code",
      "metadata": {
        "id": "JrlCG5Jmg6ha",
        "colab_type": "code",
        "colab": {}
      },
      "source": [
        "classificador = DecisionTreeClassifier ()"
      ],
      "execution_count": null,
      "outputs": []
    },
    {
      "cell_type": "code",
      "metadata": {
        "id": "SgvNNMSJhIou",
        "colab_type": "code",
        "colab": {
          "base_uri": "https://localhost:8080/",
          "height": 127
        },
        "outputId": "a203280a-06b5-46de-926b-6f0c06cdf875"
      },
      "source": [
        "classificador.fit(X_train, y_train)"
      ],
      "execution_count": null,
      "outputs": [
        {
          "output_type": "execute_result",
          "data": {
            "text/plain": [
              "DecisionTreeClassifier(ccp_alpha=0.0, class_weight=None, criterion='gini',\n",
              "                       max_depth=None, max_features=None, max_leaf_nodes=None,\n",
              "                       min_impurity_decrease=0.0, min_impurity_split=None,\n",
              "                       min_samples_leaf=1, min_samples_split=2,\n",
              "                       min_weight_fraction_leaf=0.0, presort='deprecated',\n",
              "                       random_state=None, splitter='best')"
            ]
          },
          "metadata": {
            "tags": []
          },
          "execution_count": 375
        }
      ]
    },
    {
      "cell_type": "code",
      "metadata": {
        "id": "ONXzZQ-hhczz",
        "colab_type": "code",
        "colab": {}
      },
      "source": [
        "from sklearn.tree import plot_tree"
      ],
      "execution_count": null,
      "outputs": []
    },
    {
      "cell_type": "code",
      "metadata": {
        "id": "pMKoecEJhtPb",
        "colab_type": "code",
        "colab": {}
      },
      "source": [
        "plt.rcParams[\"figure.figsize\"] = (30,20)"
      ],
      "execution_count": null,
      "outputs": []
    },
    {
      "cell_type": "code",
      "metadata": {
        "id": "dQCekIC1h7C-",
        "colab_type": "code",
        "colab": {
          "base_uri": "https://localhost:8080/",
          "height": 825
        },
        "outputId": "9a64c6c4-0719-4f84-9e90-2576a91d7790"
      },
      "source": [
        "plot_tree(classificador,feature_names=dados.columns[1:])\n",
        "plt.show()"
      ],
      "execution_count": null,
      "outputs": [
        {
          "output_type": "display_data",
          "data": {
            "image/png": "[encoded data removed]",
            "text/plain": [
              "<Figure size 2160x1440 with 1 Axes>"
            ]
          },
          "metadata": {
            "tags": [],
            "needs_background": "light"
          }
        }
      ]
    },
    {
      "cell_type": "code",
      "metadata": {
        "id": "TgI8ax6hikoU",
        "colab_type": "code",
        "colab": {}
      },
      "source": [
        "plt.rcParams[\"figure.figsize\"] = (8,6)"
      ],
      "execution_count": null,
      "outputs": []
    },
    {
      "cell_type": "code",
      "metadata": {
        "id": "THq-5O6Hi7Rx",
        "colab_type": "code",
        "colab": {
          "base_uri": "https://localhost:8080/",
          "height": 550
        },
        "outputId": "8af384b5-6f0a-4792-f5b3-dc30c9937ca9"
      },
      "source": [
        "classificacao = classificador.predict(X_test)\n",
        "classificacao"
      ],
      "execution_count": null,
      "outputs": [
        {
          "output_type": "execute_result",
          "data": {
            "text/plain": [
              "array([0, 0, 1, 1, 0, 0, 1, 1, 0, 1, 1, 1, 1, 0, 0, 1, 1, 1, 0, 0, 0, 1,\n",
              "       1, 0, 0, 1, 1, 1, 0, 0, 0, 0, 0, 0, 0, 1, 1, 1, 0, 0, 1, 0, 1, 1,\n",
              "       0, 0, 0, 0, 1, 0, 0, 0, 0, 1, 0, 0, 0, 0, 1, 1, 0, 0, 0, 0, 1, 0,\n",
              "       1, 0, 1, 1, 1, 0, 1, 1, 1, 1, 0, 1, 0, 0, 0, 0, 1, 0, 1, 0, 0, 0,\n",
              "       0, 1, 0, 0, 0, 1, 0, 0, 1, 0, 0, 0, 0, 1, 1, 1, 1, 1, 0, 0, 0, 0,\n",
              "       0, 1, 1, 1, 1, 1, 1, 1, 1, 0, 0, 1, 0, 0, 0, 0, 1, 0, 1, 1, 0, 0,\n",
              "       1, 1, 0, 0, 0, 1, 1, 0, 1, 0, 1, 0, 0, 0, 0, 0, 1, 0, 1, 0, 0, 1,\n",
              "       1, 0, 1, 0, 0, 1, 0, 1, 0, 1, 0, 0, 0, 1, 0, 0, 0, 1, 1, 1, 1, 0,\n",
              "       0, 1, 0, 1, 1, 0, 1, 0, 1, 1, 1, 0, 1, 1, 0, 0, 1, 1, 1, 1, 1, 1,\n",
              "       0, 0, 1, 1, 0, 0, 1, 0, 0, 1, 0, 0, 1, 0, 1, 1, 1, 1, 0, 1, 1, 1,\n",
              "       1, 1, 0, 1, 0, 0, 0, 1, 1, 1, 1, 1, 0, 0, 0, 0, 1, 0, 1, 0, 1, 0,\n",
              "       1, 1, 0, 0, 0, 0, 1, 0, 0, 1, 1, 0, 0, 0, 0, 1, 0, 1, 1, 1, 0, 1,\n",
              "       0, 0, 1, 0, 1, 1, 1, 1, 1, 1, 0, 1, 0, 0, 1, 0, 0, 0, 1, 1, 0, 1,\n",
              "       0, 0, 1, 0, 0, 0, 0, 0, 0, 1, 1, 1, 0, 1, 0, 1, 1, 0, 1, 0, 0, 1,\n",
              "       1, 1, 0, 0, 0, 0, 0, 1, 1, 0, 0, 0, 0, 0, 1, 0, 0, 1, 1, 0, 1, 1,\n",
              "       0, 1, 0, 1, 1, 1, 1, 1, 0, 1, 1, 0, 0, 0, 0, 0, 1, 1, 0, 1, 0, 0,\n",
              "       1, 1, 0, 1, 1, 1, 0, 0, 1, 0, 1, 0, 0, 0, 1, 1, 0, 1, 1, 1, 0, 1,\n",
              "       1, 0, 0, 0, 1, 0, 1, 1, 0, 1, 0, 1, 0, 0, 1, 1, 1, 1, 1, 1, 1, 0,\n",
              "       0, 1, 1, 0, 0, 1, 0, 0, 1, 0, 0, 1, 0, 1, 1, 1, 1, 0, 0, 0, 1, 0,\n",
              "       0, 1, 0, 1, 1, 1, 1, 1, 0, 1, 0, 0, 0, 1, 0, 0, 0, 0, 0, 1, 0, 0,\n",
              "       0, 0, 0, 0, 1, 1, 1, 1, 1, 0, 0, 0, 0, 0, 1, 0, 0, 0, 1, 1, 1, 1,\n",
              "       0, 0, 0, 1, 1, 0, 0, 1, 0, 0, 1, 0, 0, 0, 0, 0, 0, 1, 1, 1, 0, 0,\n",
              "       0, 0, 0, 1, 1, 0, 1, 0, 1, 1, 1, 0, 1, 0, 1, 0, 1, 0, 1, 0, 0, 1,\n",
              "       1, 1, 0, 0, 1, 0, 0, 1, 1, 0, 1, 0, 1, 1, 1, 0, 1, 1, 1, 1, 1, 0,\n",
              "       1, 0, 0, 0, 1, 1, 0, 1, 1, 1, 1, 0, 0, 1, 1, 0, 0, 1, 1, 0, 0, 1,\n",
              "       1, 1, 0, 1, 1, 0, 1, 1, 1, 1, 0, 0, 1, 1, 0, 0, 1, 0, 1, 0, 0, 1,\n",
              "       1, 1, 0, 1, 1, 1, 0, 1, 1, 0, 1, 1, 1, 1, 0, 1, 1, 0, 1, 1, 1, 0,\n",
              "       1, 0, 0, 0, 1, 1, 0, 0, 1, 1, 0, 0, 1, 0, 0, 1, 1, 1, 1, 1, 0, 0,\n",
              "       0, 0, 1, 0, 0, 1, 1, 1, 1, 1, 1, 0, 1, 1, 0, 0, 1, 0])"
            ]
          },
          "metadata": {
            "tags": []
          },
          "execution_count": 380
        }
      ]
    },
    {
      "cell_type": "code",
      "metadata": {
        "id": "2c3vHmTjnsGG",
        "colab_type": "code",
        "colab": {
          "base_uri": "https://localhost:8080/",
          "height": 1000
        },
        "outputId": "f6dee0b5-6d1d-4fde-ccad-24e5cdf372b7"
      },
      "source": [
        "for i in range (len(y_test)):\n",
        "  print(y_test.iloc[i],'\\t',classificacao[i])"
      ],
      "execution_count": null,
      "outputs": [
        {
          "output_type": "stream",
          "text": [
            "0 \t 0\n",
            "0 \t 0\n",
            "1 \t 1\n",
            "1 \t 1\n",
            "0 \t 0\n",
            "0 \t 0\n",
            "1 \t 1\n",
            "1 \t 1\n",
            "0 \t 0\n",
            "1 \t 1\n",
            "1 \t 1\n",
            "1 \t 1\n",
            "1 \t 1\n",
            "0 \t 0\n",
            "0 \t 0\n",
            "1 \t 1\n",
            "1 \t 1\n",
            "1 \t 1\n",
            "0 \t 0\n",
            "0 \t 0\n",
            "0 \t 0\n",
            "1 \t 1\n",
            "1 \t 1\n",
            "0 \t 0\n",
            "0 \t 0\n",
            "1 \t 1\n",
            "1 \t 1\n",
            "1 \t 1\n",
            "0 \t 0\n",
            "0 \t 0\n",
            "0 \t 0\n",
            "0 \t 0\n",
            "0 \t 0\n",
            "0 \t 0\n",
            "0 \t 0\n",
            "1 \t 1\n",
            "1 \t 1\n",
            "1 \t 1\n",
            "0 \t 0\n",
            "0 \t 0\n",
            "1 \t 1\n",
            "0 \t 0\n",
            "1 \t 1\n",
            "1 \t 1\n",
            "0 \t 0\n",
            "0 \t 0\n",
            "0 \t 0\n",
            "0 \t 0\n",
            "1 \t 1\n",
            "0 \t 0\n",
            "0 \t 0\n",
            "0 \t 0\n",
            "0 \t 0\n",
            "1 \t 1\n",
            "0 \t 0\n",
            "0 \t 0\n",
            "0 \t 0\n",
            "0 \t 0\n",
            "1 \t 1\n",
            "1 \t 1\n",
            "0 \t 0\n",
            "0 \t 0\n",
            "0 \t 0\n",
            "0 \t 0\n",
            "1 \t 1\n",
            "0 \t 0\n",
            "1 \t 1\n",
            "0 \t 0\n",
            "1 \t 1\n",
            "1 \t 1\n",
            "1 \t 1\n",
            "0 \t 0\n",
            "1 \t 1\n",
            "1 \t 1\n",
            "1 \t 1\n",
            "1 \t 1\n",
            "0 \t 0\n",
            "1 \t 1\n",
            "0 \t 0\n",
            "0 \t 0\n",
            "0 \t 0\n",
            "0 \t 0\n",
            "1 \t 1\n",
            "0 \t 0\n",
            "1 \t 1\n",
            "0 \t 0\n",
            "0 \t 0\n",
            "0 \t 0\n",
            "0 \t 0\n",
            "1 \t 1\n",
            "0 \t 0\n",
            "0 \t 0\n",
            "0 \t 0\n",
            "1 \t 1\n",
            "0 \t 0\n",
            "0 \t 0\n",
            "1 \t 1\n",
            "0 \t 0\n",
            "0 \t 0\n",
            "0 \t 0\n",
            "0 \t 0\n",
            "1 \t 1\n",
            "1 \t 1\n",
            "1 \t 1\n",
            "1 \t 1\n",
            "1 \t 1\n",
            "0 \t 0\n",
            "0 \t 0\n",
            "0 \t 0\n",
            "0 \t 0\n",
            "0 \t 0\n",
            "1 \t 1\n",
            "1 \t 1\n",
            "1 \t 1\n",
            "1 \t 1\n",
            "1 \t 1\n",
            "1 \t 1\n",
            "1 \t 1\n",
            "1 \t 1\n",
            "0 \t 0\n",
            "0 \t 0\n",
            "1 \t 1\n",
            "0 \t 0\n",
            "0 \t 0\n",
            "0 \t 0\n",
            "0 \t 0\n",
            "1 \t 1\n",
            "0 \t 0\n",
            "1 \t 1\n",
            "1 \t 1\n",
            "0 \t 0\n",
            "0 \t 0\n",
            "1 \t 1\n",
            "1 \t 1\n",
            "0 \t 0\n",
            "0 \t 0\n",
            "0 \t 0\n",
            "1 \t 1\n",
            "1 \t 1\n",
            "0 \t 0\n",
            "1 \t 1\n",
            "0 \t 0\n",
            "1 \t 1\n",
            "0 \t 0\n",
            "0 \t 0\n",
            "0 \t 0\n",
            "0 \t 0\n",
            "0 \t 0\n",
            "1 \t 1\n",
            "0 \t 0\n",
            "1 \t 1\n",
            "0 \t 0\n",
            "0 \t 0\n",
            "1 \t 1\n",
            "1 \t 1\n",
            "0 \t 0\n",
            "1 \t 1\n",
            "0 \t 0\n",
            "0 \t 0\n",
            "1 \t 1\n",
            "0 \t 0\n",
            "1 \t 1\n",
            "0 \t 0\n",
            "1 \t 1\n",
            "0 \t 0\n",
            "0 \t 0\n",
            "0 \t 0\n",
            "1 \t 1\n",
            "0 \t 0\n",
            "0 \t 0\n",
            "0 \t 0\n",
            "1 \t 1\n",
            "1 \t 1\n",
            "1 \t 1\n",
            "1 \t 1\n",
            "0 \t 0\n",
            "0 \t 0\n",
            "1 \t 1\n",
            "0 \t 0\n",
            "1 \t 1\n",
            "1 \t 1\n",
            "0 \t 0\n",
            "1 \t 1\n",
            "0 \t 0\n",
            "1 \t 1\n",
            "1 \t 1\n",
            "1 \t 1\n",
            "0 \t 0\n",
            "1 \t 1\n",
            "1 \t 1\n",
            "0 \t 0\n",
            "0 \t 0\n",
            "1 \t 1\n",
            "1 \t 1\n",
            "1 \t 1\n",
            "1 \t 1\n",
            "1 \t 1\n",
            "1 \t 1\n",
            "0 \t 0\n",
            "0 \t 0\n",
            "1 \t 1\n",
            "1 \t 1\n",
            "0 \t 0\n",
            "0 \t 0\n",
            "1 \t 1\n",
            "0 \t 0\n",
            "0 \t 0\n",
            "1 \t 1\n",
            "0 \t 0\n",
            "0 \t 0\n",
            "1 \t 1\n",
            "0 \t 0\n",
            "1 \t 1\n",
            "1 \t 1\n",
            "1 \t 1\n",
            "1 \t 1\n",
            "0 \t 0\n",
            "1 \t 1\n",
            "1 \t 1\n",
            "1 \t 1\n",
            "1 \t 1\n",
            "1 \t 1\n",
            "0 \t 0\n",
            "1 \t 1\n",
            "0 \t 0\n",
            "0 \t 0\n",
            "0 \t 0\n",
            "1 \t 1\n",
            "1 \t 1\n",
            "1 \t 1\n",
            "1 \t 1\n",
            "1 \t 1\n",
            "0 \t 0\n",
            "0 \t 0\n",
            "0 \t 0\n",
            "0 \t 0\n",
            "1 \t 1\n",
            "0 \t 0\n",
            "1 \t 1\n",
            "0 \t 0\n",
            "1 \t 1\n",
            "0 \t 0\n",
            "1 \t 1\n",
            "1 \t 1\n",
            "0 \t 0\n",
            "0 \t 0\n",
            "0 \t 0\n",
            "0 \t 0\n",
            "1 \t 1\n",
            "0 \t 0\n",
            "0 \t 0\n",
            "1 \t 1\n",
            "1 \t 1\n",
            "0 \t 0\n",
            "0 \t 0\n",
            "0 \t 0\n",
            "0 \t 0\n",
            "1 \t 1\n",
            "0 \t 0\n",
            "1 \t 1\n",
            "1 \t 1\n",
            "1 \t 1\n",
            "0 \t 0\n",
            "1 \t 1\n",
            "0 \t 0\n",
            "0 \t 0\n",
            "1 \t 1\n",
            "0 \t 0\n",
            "1 \t 1\n",
            "1 \t 1\n",
            "1 \t 1\n",
            "1 \t 1\n",
            "1 \t 1\n",
            "1 \t 1\n",
            "0 \t 0\n",
            "1 \t 1\n",
            "0 \t 0\n",
            "0 \t 0\n",
            "1 \t 1\n",
            "0 \t 0\n",
            "0 \t 0\n",
            "0 \t 0\n",
            "1 \t 1\n",
            "1 \t 1\n",
            "0 \t 0\n",
            "1 \t 1\n",
            "0 \t 0\n",
            "0 \t 0\n",
            "1 \t 1\n",
            "0 \t 0\n",
            "0 \t 0\n",
            "0 \t 0\n",
            "0 \t 0\n",
            "0 \t 0\n",
            "0 \t 0\n",
            "1 \t 1\n",
            "1 \t 1\n",
            "1 \t 1\n",
            "0 \t 0\n",
            "1 \t 1\n",
            "0 \t 0\n",
            "1 \t 1\n",
            "1 \t 1\n",
            "0 \t 0\n",
            "1 \t 1\n",
            "0 \t 0\n",
            "0 \t 0\n",
            "1 \t 1\n",
            "1 \t 1\n",
            "1 \t 1\n",
            "0 \t 0\n",
            "0 \t 0\n",
            "0 \t 0\n",
            "0 \t 0\n",
            "0 \t 0\n",
            "1 \t 1\n",
            "1 \t 1\n",
            "0 \t 0\n",
            "0 \t 0\n",
            "0 \t 0\n",
            "0 \t 0\n",
            "0 \t 0\n",
            "1 \t 1\n",
            "0 \t 0\n",
            "0 \t 0\n",
            "1 \t 1\n",
            "1 \t 1\n",
            "0 \t 0\n",
            "1 \t 1\n",
            "1 \t 1\n",
            "0 \t 0\n",
            "1 \t 1\n",
            "0 \t 0\n",
            "1 \t 1\n",
            "1 \t 1\n",
            "1 \t 1\n",
            "1 \t 1\n",
            "1 \t 1\n",
            "0 \t 0\n",
            "1 \t 1\n",
            "1 \t 1\n",
            "0 \t 0\n",
            "0 \t 0\n",
            "0 \t 0\n",
            "0 \t 0\n",
            "0 \t 0\n",
            "1 \t 1\n",
            "1 \t 1\n",
            "0 \t 0\n",
            "1 \t 1\n",
            "0 \t 0\n",
            "0 \t 0\n",
            "1 \t 1\n",
            "1 \t 1\n",
            "0 \t 0\n",
            "1 \t 1\n",
            "1 \t 1\n",
            "1 \t 1\n",
            "0 \t 0\n",
            "0 \t 0\n",
            "1 \t 1\n",
            "0 \t 0\n",
            "1 \t 1\n",
            "0 \t 0\n",
            "0 \t 0\n",
            "0 \t 0\n",
            "1 \t 1\n",
            "1 \t 1\n",
            "0 \t 0\n",
            "1 \t 1\n",
            "1 \t 1\n",
            "1 \t 1\n",
            "0 \t 0\n",
            "1 \t 1\n",
            "1 \t 1\n",
            "0 \t 0\n",
            "0 \t 0\n",
            "0 \t 0\n",
            "1 \t 1\n",
            "0 \t 0\n",
            "1 \t 1\n",
            "1 \t 1\n",
            "0 \t 0\n",
            "1 \t 1\n",
            "0 \t 0\n",
            "1 \t 1\n",
            "0 \t 0\n",
            "0 \t 0\n",
            "1 \t 1\n",
            "1 \t 1\n",
            "1 \t 1\n",
            "1 \t 1\n",
            "1 \t 1\n",
            "1 \t 1\n",
            "1 \t 1\n",
            "0 \t 0\n",
            "0 \t 0\n",
            "1 \t 1\n",
            "1 \t 1\n",
            "0 \t 0\n",
            "0 \t 0\n",
            "1 \t 1\n",
            "0 \t 0\n",
            "0 \t 0\n",
            "1 \t 1\n",
            "0 \t 0\n",
            "0 \t 0\n",
            "1 \t 1\n",
            "0 \t 0\n",
            "1 \t 1\n",
            "1 \t 1\n",
            "1 \t 1\n",
            "1 \t 1\n",
            "0 \t 0\n",
            "0 \t 0\n",
            "0 \t 0\n",
            "1 \t 1\n",
            "0 \t 0\n",
            "0 \t 0\n",
            "1 \t 1\n",
            "0 \t 0\n",
            "1 \t 1\n",
            "1 \t 1\n",
            "1 \t 1\n",
            "1 \t 1\n",
            "1 \t 1\n",
            "0 \t 0\n",
            "1 \t 1\n",
            "0 \t 0\n",
            "0 \t 0\n",
            "0 \t 0\n",
            "1 \t 1\n",
            "0 \t 0\n",
            "0 \t 0\n",
            "0 \t 0\n",
            "0 \t 0\n",
            "0 \t 0\n",
            "1 \t 1\n",
            "0 \t 0\n",
            "0 \t 0\n",
            "0 \t 0\n",
            "0 \t 0\n",
            "0 \t 0\n",
            "0 \t 0\n",
            "1 \t 1\n",
            "1 \t 1\n",
            "1 \t 1\n",
            "1 \t 1\n",
            "1 \t 1\n",
            "0 \t 0\n",
            "0 \t 0\n",
            "0 \t 0\n",
            "0 \t 0\n",
            "0 \t 0\n",
            "1 \t 1\n",
            "0 \t 0\n",
            "0 \t 0\n",
            "0 \t 0\n",
            "1 \t 1\n",
            "1 \t 1\n",
            "1 \t 1\n",
            "1 \t 1\n",
            "0 \t 0\n",
            "0 \t 0\n",
            "0 \t 0\n",
            "1 \t 1\n",
            "1 \t 1\n",
            "0 \t 0\n",
            "0 \t 0\n",
            "1 \t 1\n",
            "0 \t 0\n",
            "0 \t 0\n",
            "1 \t 1\n",
            "0 \t 0\n",
            "0 \t 0\n",
            "0 \t 0\n",
            "0 \t 0\n",
            "0 \t 0\n",
            "0 \t 0\n",
            "1 \t 1\n",
            "1 \t 1\n",
            "1 \t 1\n",
            "0 \t 0\n",
            "0 \t 0\n",
            "0 \t 0\n",
            "0 \t 0\n",
            "0 \t 0\n",
            "1 \t 1\n",
            "1 \t 1\n",
            "0 \t 0\n",
            "1 \t 1\n",
            "0 \t 0\n",
            "1 \t 1\n",
            "1 \t 1\n",
            "1 \t 1\n",
            "0 \t 0\n",
            "1 \t 1\n",
            "0 \t 0\n",
            "1 \t 1\n",
            "0 \t 0\n",
            "1 \t 1\n",
            "0 \t 0\n",
            "1 \t 1\n",
            "0 \t 0\n",
            "0 \t 0\n",
            "1 \t 1\n",
            "1 \t 1\n",
            "1 \t 1\n",
            "0 \t 0\n",
            "0 \t 0\n",
            "1 \t 1\n",
            "0 \t 0\n",
            "0 \t 0\n",
            "1 \t 1\n",
            "1 \t 1\n",
            "0 \t 0\n",
            "1 \t 1\n",
            "0 \t 0\n",
            "1 \t 1\n",
            "1 \t 1\n",
            "1 \t 1\n",
            "0 \t 0\n",
            "1 \t 1\n",
            "1 \t 1\n",
            "1 \t 1\n",
            "1 \t 1\n",
            "1 \t 1\n",
            "0 \t 0\n",
            "1 \t 1\n",
            "0 \t 0\n",
            "0 \t 0\n",
            "0 \t 0\n",
            "1 \t 1\n",
            "1 \t 1\n",
            "0 \t 0\n",
            "1 \t 1\n",
            "1 \t 1\n",
            "1 \t 1\n",
            "1 \t 1\n",
            "0 \t 0\n",
            "0 \t 0\n",
            "1 \t 1\n",
            "1 \t 1\n",
            "0 \t 0\n",
            "0 \t 0\n",
            "1 \t 1\n",
            "1 \t 1\n",
            "0 \t 0\n",
            "0 \t 0\n",
            "1 \t 1\n",
            "1 \t 1\n",
            "1 \t 1\n",
            "0 \t 0\n",
            "1 \t 1\n",
            "1 \t 1\n",
            "0 \t 0\n",
            "1 \t 1\n",
            "1 \t 1\n",
            "1 \t 1\n",
            "1 \t 1\n",
            "0 \t 0\n",
            "0 \t 0\n",
            "1 \t 1\n",
            "1 \t 1\n",
            "0 \t 0\n",
            "0 \t 0\n",
            "1 \t 1\n",
            "0 \t 0\n",
            "1 \t 1\n",
            "0 \t 0\n",
            "0 \t 0\n",
            "1 \t 1\n",
            "1 \t 1\n",
            "1 \t 1\n",
            "0 \t 0\n",
            "1 \t 1\n",
            "1 \t 1\n",
            "1 \t 1\n",
            "0 \t 0\n",
            "1 \t 1\n",
            "1 \t 1\n",
            "0 \t 0\n",
            "1 \t 1\n",
            "1 \t 1\n",
            "1 \t 1\n",
            "1 \t 1\n",
            "0 \t 0\n",
            "1 \t 1\n",
            "1 \t 1\n",
            "0 \t 0\n",
            "1 \t 1\n",
            "1 \t 1\n",
            "1 \t 1\n",
            "0 \t 0\n",
            "1 \t 1\n",
            "0 \t 0\n",
            "0 \t 0\n",
            "0 \t 0\n",
            "1 \t 1\n",
            "1 \t 1\n",
            "0 \t 0\n",
            "0 \t 0\n",
            "1 \t 1\n",
            "1 \t 1\n",
            "0 \t 0\n",
            "0 \t 0\n",
            "1 \t 1\n",
            "0 \t 0\n",
            "0 \t 0\n",
            "1 \t 1\n",
            "1 \t 1\n",
            "1 \t 1\n",
            "1 \t 1\n",
            "1 \t 1\n",
            "0 \t 0\n",
            "0 \t 0\n",
            "0 \t 0\n",
            "0 \t 0\n",
            "1 \t 1\n",
            "0 \t 0\n",
            "0 \t 0\n",
            "1 \t 1\n",
            "1 \t 1\n",
            "1 \t 1\n",
            "1 \t 1\n",
            "1 \t 1\n",
            "1 \t 1\n",
            "0 \t 0\n",
            "1 \t 1\n",
            "1 \t 1\n",
            "0 \t 0\n",
            "0 \t 0\n",
            "1 \t 1\n",
            "0 \t 0\n"
          ],
          "name": "stdout"
        }
      ]
    },
    {
      "cell_type": "code",
      "metadata": {
        "id": "I4X4tJyXp4PZ",
        "colab_type": "code",
        "colab": {}
      },
      "source": [
        "from sklearn.metrics import accuracy_score"
      ],
      "execution_count": null,
      "outputs": []
    },
    {
      "cell_type": "code",
      "metadata": {
        "id": "RvSoTCUQp_si",
        "colab_type": "code",
        "colab": {
          "base_uri": "https://localhost:8080/",
          "height": 35
        },
        "outputId": "e1561bd5-7b3e-4c8f-d81b-2168247a9472"
      },
      "source": [
        "acuracia = accuracy_score(y_test,classificacao)\n",
        "acuracia\n",
        "      "
      ],
      "execution_count": null,
      "outputs": [
        {
          "output_type": "execute_result",
          "data": {
            "text/plain": [
              "1.0"
            ]
          },
          "metadata": {
            "tags": []
          },
          "execution_count": 383
        }
      ]
    },
    {
      "cell_type": "code",
      "metadata": {
        "id": "yYbKhVDUqx6v",
        "colab_type": "code",
        "colab": {}
      },
      "source": [
        "from sklearn.metrics import precision_score"
      ],
      "execution_count": null,
      "outputs": []
    },
    {
      "cell_type": "code",
      "metadata": {
        "id": "ZYLVMWUVq6IC",
        "colab_type": "code",
        "colab": {
          "base_uri": "https://localhost:8080/",
          "height": 35
        },
        "outputId": "a7cbbb80-de38-4b31-9235-2ba62d189f13"
      },
      "source": [
        "precisao = precision_score(y_test,classificacao)\n",
        "precisao\n",
        "                           "
      ],
      "execution_count": null,
      "outputs": [
        {
          "output_type": "execute_result",
          "data": {
            "text/plain": [
              "1.0"
            ]
          },
          "metadata": {
            "tags": []
          },
          "execution_count": 385
        }
      ]
    },
    {
      "cell_type": "code",
      "metadata": {
        "id": "JwfKsGEyrLh_",
        "colab_type": "code",
        "colab": {}
      },
      "source": [
        "from sklearn.metrics import recall_score"
      ],
      "execution_count": null,
      "outputs": []
    },
    {
      "cell_type": "code",
      "metadata": {
        "id": "YKVv-9FzrTha",
        "colab_type": "code",
        "colab": {}
      },
      "source": [
        "recall = recall_score (y_test, classificacao)"
      ],
      "execution_count": null,
      "outputs": []
    },
    {
      "cell_type": "code",
      "metadata": {
        "id": "BerATIGWsSpK",
        "colab_type": "code",
        "colab": {}
      },
      "source": [
        "from sklearn.metrics import f1_score"
      ],
      "execution_count": null,
      "outputs": []
    },
    {
      "cell_type": "code",
      "metadata": {
        "id": "u1vCWyiKsb4a",
        "colab_type": "code",
        "colab": {
          "base_uri": "https://localhost:8080/",
          "height": 35
        },
        "outputId": "e38b5c9b-e10e-4944-fb9f-0711fc5a7c3d"
      },
      "source": [
        "f1 = f1_score (y_test,classificacao)\n",
        "f1"
      ],
      "execution_count": null,
      "outputs": [
        {
          "output_type": "execute_result",
          "data": {
            "text/plain": [
              "1.0"
            ]
          },
          "metadata": {
            "tags": []
          },
          "execution_count": 389
        }
      ]
    },
    {
      "cell_type": "code",
      "metadata": {
        "id": "QVQUhrezs0kR",
        "colab_type": "code",
        "colab": {}
      },
      "source": [
        "from sklearn.metrics import roc_curve"
      ],
      "execution_count": null,
      "outputs": []
    },
    {
      "cell_type": "code",
      "metadata": {
        "id": "KSQjCe9as8Gm",
        "colab_type": "code",
        "colab": {}
      },
      "source": [
        "fpr, tpr, _ = roc_curve (y_test,classificacao)"
      ],
      "execution_count": null,
      "outputs": []
    },
    {
      "cell_type": "code",
      "metadata": {
        "id": "N3-msm4DtGAX",
        "colab_type": "code",
        "colab": {
          "base_uri": "https://localhost:8080/",
          "height": 35
        },
        "outputId": "7b5d8bbe-f2e5-40b6-9b3e-4226cc7c5c3e"
      },
      "source": [
        "fpr"
      ],
      "execution_count": null,
      "outputs": [
        {
          "output_type": "execute_result",
          "data": {
            "text/plain": [
              "array([0., 0., 1.])"
            ]
          },
          "metadata": {
            "tags": []
          },
          "execution_count": 392
        }
      ]
    },
    {
      "cell_type": "code",
      "metadata": {
        "id": "eqB0JE1ttNeG",
        "colab_type": "code",
        "colab": {
          "base_uri": "https://localhost:8080/",
          "height": 35
        },
        "outputId": "f1726ee0-96a3-4fca-d73e-8c6969c7b1cc"
      },
      "source": [
        "tpr"
      ],
      "execution_count": null,
      "outputs": [
        {
          "output_type": "execute_result",
          "data": {
            "text/plain": [
              "array([0., 1., 1.])"
            ]
          },
          "metadata": {
            "tags": []
          },
          "execution_count": 393
        }
      ]
    },
    {
      "cell_type": "code",
      "metadata": {
        "id": "W4NNCewStSse",
        "colab_type": "code",
        "colab": {
          "base_uri": "https://localhost:8080/",
          "height": 404
        },
        "outputId": "319170be-b25e-4fee-ed58-18086b800594"
      },
      "source": [
        "plt.plot(fpr,tpr,marker='.')\n",
        "plt.title('Curva ROC')\n",
        "plt.xlabel('Taxa de Falsos Positivos')\n",
        "plt.ylabel('Taxa de Verdadeiro Positivos')\n",
        "plt.show()"
      ],
      "execution_count": null,
      "outputs": [
        {
          "output_type": "display_data",
          "data": {
            "image/png": "[encoded data removed]",
            "text/plain": [
              "<Figure size 576x432 with 1 Axes>"
            ]
          },
          "metadata": {
            "tags": [],
            "needs_background": "light"
          }
        }
      ]
    },
    {
      "cell_type": "code",
      "metadata": {
        "id": "8WjMsT5Ft6N8",
        "colab_type": "code",
        "colab": {}
      },
      "source": [
        "from sklearn.metrics import roc_auc_score"
      ],
      "execution_count": null,
      "outputs": []
    },
    {
      "cell_type": "code",
      "metadata": {
        "id": "QSA_GPy4uCeU",
        "colab_type": "code",
        "colab": {
          "base_uri": "https://localhost:8080/",
          "height": 35
        },
        "outputId": "5e9e9451-994a-4cbf-c87a-79362762acf3"
      },
      "source": [
        "erro = roc_auc_score(y_test,classificacao)\n",
        "erro"
      ],
      "execution_count": null,
      "outputs": [
        {
          "output_type": "execute_result",
          "data": {
            "text/plain": [
              "1.0"
            ]
          },
          "metadata": {
            "tags": []
          },
          "execution_count": 396
        }
      ]
    },
    {
      "cell_type": "code",
      "metadata": {
        "id": "5khHpKIaubzo",
        "colab_type": "code",
        "colab": {}
      },
      "source": [
        "from sklearn.model_selection import KFold"
      ],
      "execution_count": null,
      "outputs": []
    },
    {
      "cell_type": "code",
      "metadata": {
        "id": "kLZv9yQXujWP",
        "colab_type": "code",
        "colab": {}
      },
      "source": [
        "kf = KFold(n_splits=5)"
      ],
      "execution_count": null,
      "outputs": []
    },
    {
      "cell_type": "code",
      "metadata": {
        "id": "Yd_jvOfUu6IY",
        "colab_type": "code",
        "colab": {
          "base_uri": "https://localhost:8080/",
          "height": 1000
        },
        "outputId": "ee99812e-7674-43de-f6bb-3f069e09f909"
      },
      "source": [
        "for train, test in kf.split(X):\n",
        "  print('Treino:',train,'\\nTeste:',test)\n",
        "  print('-----')"
      ],
      "execution_count": null,
      "outputs": [
        {
          "output_type": "stream",
          "text": [
            "Treino: [ 634  635  636 ... 3165 3166 3167] \n",
            "Teste: [  0   1   2   3   4   5   6   7   8   9  10  11  12  13  14  15  16  17\n",
            "  18  19  20  21  22  23  24  25  26  27  28  29  30  31  32  33  34  35\n",
            "  36  37  38  39  40  41  42  43  44  45  46  47  48  49  50  51  52  53\n",
            "  54  55  56  57  58  59  60  61  62  63  64  65  66  67  68  69  70  71\n",
            "  72  73  74  75  76  77  78  79  80  81  82  83  84  85  86  87  88  89\n",
            "  90  91  92  93  94  95  96  97  98  99 100 101 102 103 104 105 106 107\n",
            " 108 109 110 111 112 113 114 115 116 117 118 119 120 121 122 123 124 125\n",
            " 126 127 128 129 130 131 132 133 134 135 136 137 138 139 140 141 142 143\n",
            " 144 145 146 147 148 149 150 151 152 153 154 155 156 157 158 159 160 161\n",
            " 162 163 164 165 166 167 168 169 170 171 172 173 174 175 176 177 178 179\n",
            " 180 181 182 183 184 185 186 187 188 189 190 191 192 193 194 195 196 197\n",
            " 198 199 200 201 202 203 204 205 206 207 208 209 210 211 212 213 214 215\n",
            " 216 217 218 219 220 221 222 223 224 225 226 227 228 229 230 231 232 233\n",
            " 234 235 236 237 238 239 240 241 242 243 244 245 246 247 248 249 250 251\n",
            " 252 253 254 255 256 257 258 259 260 261 262 263 264 265 266 267 268 269\n",
            " 270 271 272 273 274 275 276 277 278 279 280 281 282 283 284 285 286 287\n",
            " 288 289 290 291 292 293 294 295 296 297 298 299 300 301 302 303 304 305\n",
            " 306 307 308 309 310 311 312 313 314 315 316 317 318 319 320 321 322 323\n",
            " 324 325 326 327 328 329 330 331 332 333 334 335 336 337 338 339 340 341\n",
            " 342 343 344 345 346 347 348 349 350 351 352 353 354 355 356 357 358 359\n",
            " 360 361 362 363 364 365 366 367 368 369 370 371 372 373 374 375 376 377\n",
            " 378 379 380 381 382 383 384 385 386 387 388 389 390 391 392 393 394 395\n",
            " 396 397 398 399 400 401 402 403 404 405 406 407 408 409 410 411 412 413\n",
            " 414 415 416 417 418 419 420 421 422 423 424 425 426 427 428 429 430 431\n",
            " 432 433 434 435 436 437 438 439 440 441 442 443 444 445 446 447 448 449\n",
            " 450 451 452 453 454 455 456 457 458 459 460 461 462 463 464 465 466 467\n",
            " 468 469 470 471 472 473 474 475 476 477 478 479 480 481 482 483 484 485\n",
            " 486 487 488 489 490 491 492 493 494 495 496 497 498 499 500 501 502 503\n",
            " 504 505 506 507 508 509 510 511 512 513 514 515 516 517 518 519 520 521\n",
            " 522 523 524 525 526 527 528 529 530 531 532 533 534 535 536 537 538 539\n",
            " 540 541 542 543 544 545 546 547 548 549 550 551 552 553 554 555 556 557\n",
            " 558 559 560 561 562 563 564 565 566 567 568 569 570 571 572 573 574 575\n",
            " 576 577 578 579 580 581 582 583 584 585 586 587 588 589 590 591 592 593\n",
            " 594 595 596 597 598 599 600 601 602 603 604 605 606 607 608 609 610 611\n",
            " 612 613 614 615 616 617 618 619 620 621 622 623 624 625 626 627 628 629\n",
            " 630 631 632 633]\n",
            "-----\n",
            "Treino: [   0    1    2 ... 3165 3166 3167] \n",
            "Teste: [ 634  635  636  637  638  639  640  641  642  643  644  645  646  647\n",
            "  648  649  650  651  652  653  654  655  656  657  658  659  660  661\n",
            "  662  663  664  665  666  667  668  669  670  671  672  673  674  675\n",
            "  676  677  678  679  680  681  682  683  684  685  686  687  688  689\n",
            "  690  691  692  693  694  695  696  697  698  699  700  701  702  703\n",
            "  704  705  706  707  708  709  710  711  712  713  714  715  716  717\n",
            "  718  719  720  721  722  723  724  725  726  727  728  729  730  731\n",
            "  732  733  734  735  736  737  738  739  740  741  742  743  744  745\n",
            "  746  747  748  749  750  751  752  753  754  755  756  757  758  759\n",
            "  760  761  762  763  764  765  766  767  768  769  770  771  772  773\n",
            "  774  775  776  777  778  779  780  781  782  783  784  785  786  787\n",
            "  788  789  790  791  792  793  794  795  796  797  798  799  800  801\n",
            "  802  803  804  805  806  807  808  809  810  811  812  813  814  815\n",
            "  816  817  818  819  820  821  822  823  824  825  826  827  828  829\n",
            "  830  831  832  833  834  835  836  837  838  839  840  841  842  843\n",
            "  844  845  846  847  848  849  850  851  852  853  854  855  856  857\n",
            "  858  859  860  861  862  863  864  865  866  867  868  869  870  871\n",
            "  872  873  874  875  876  877  878  879  880  881  882  883  884  885\n",
            "  886  887  888  889  890  891  892  893  894  895  896  897  898  899\n",
            "  900  901  902  903  904  905  906  907  908  909  910  911  912  913\n",
            "  914  915  916  917  918  919  920  921  922  923  924  925  926  927\n",
            "  928  929  930  931  932  933  934  935  936  937  938  939  940  941\n",
            "  942  943  944  945  946  947  948  949  950  951  952  953  954  955\n",
            "  956  957  958  959  960  961  962  963  964  965  966  967  968  969\n",
            "  970  971  972  973  974  975  976  977  978  979  980  981  982  983\n",
            "  984  985  986  987  988  989  990  991  992  993  994  995  996  997\n",
            "  998  999 1000 1001 1002 1003 1004 1005 1006 1007 1008 1009 1010 1011\n",
            " 1012 1013 1014 1015 1016 1017 1018 1019 1020 1021 1022 1023 1024 1025\n",
            " 1026 1027 1028 1029 1030 1031 1032 1033 1034 1035 1036 1037 1038 1039\n",
            " 1040 1041 1042 1043 1044 1045 1046 1047 1048 1049 1050 1051 1052 1053\n",
            " 1054 1055 1056 1057 1058 1059 1060 1061 1062 1063 1064 1065 1066 1067\n",
            " 1068 1069 1070 1071 1072 1073 1074 1075 1076 1077 1078 1079 1080 1081\n",
            " 1082 1083 1084 1085 1086 1087 1088 1089 1090 1091 1092 1093 1094 1095\n",
            " 1096 1097 1098 1099 1100 1101 1102 1103 1104 1105 1106 1107 1108 1109\n",
            " 1110 1111 1112 1113 1114 1115 1116 1117 1118 1119 1120 1121 1122 1123\n",
            " 1124 1125 1126 1127 1128 1129 1130 1131 1132 1133 1134 1135 1136 1137\n",
            " 1138 1139 1140 1141 1142 1143 1144 1145 1146 1147 1148 1149 1150 1151\n",
            " 1152 1153 1154 1155 1156 1157 1158 1159 1160 1161 1162 1163 1164 1165\n",
            " 1166 1167 1168 1169 1170 1171 1172 1173 1174 1175 1176 1177 1178 1179\n",
            " 1180 1181 1182 1183 1184 1185 1186 1187 1188 1189 1190 1191 1192 1193\n",
            " 1194 1195 1196 1197 1198 1199 1200 1201 1202 1203 1204 1205 1206 1207\n",
            " 1208 1209 1210 1211 1212 1213 1214 1215 1216 1217 1218 1219 1220 1221\n",
            " 1222 1223 1224 1225 1226 1227 1228 1229 1230 1231 1232 1233 1234 1235\n",
            " 1236 1237 1238 1239 1240 1241 1242 1243 1244 1245 1246 1247 1248 1249\n",
            " 1250 1251 1252 1253 1254 1255 1256 1257 1258 1259 1260 1261 1262 1263\n",
            " 1264 1265 1266 1267]\n",
            "-----\n",
            "Treino: [   0    1    2 ... 3165 3166 3167] \n",
            "Teste: [1268 1269 1270 1271 1272 1273 1274 1275 1276 1277 1278 1279 1280 1281\n",
            " 1282 1283 1284 1285 1286 1287 1288 1289 1290 1291 1292 1293 1294 1295\n",
            " 1296 1297 1298 1299 1300 1301 1302 1303 1304 1305 1306 1307 1308 1309\n",
            " 1310 1311 1312 1313 1314 1315 1316 1317 1318 1319 1320 1321 1322 1323\n",
            " 1324 1325 1326 1327 1328 1329 1330 1331 1332 1333 1334 1335 1336 1337\n",
            " 1338 1339 1340 1341 1342 1343 1344 1345 1346 1347 1348 1349 1350 1351\n",
            " 1352 1353 1354 1355 1356 1357 1358 1359 1360 1361 1362 1363 1364 1365\n",
            " 1366 1367 1368 1369 1370 1371 1372 1373 1374 1375 1376 1377 1378 1379\n",
            " 1380 1381 1382 1383 1384 1385 1386 1387 1388 1389 1390 1391 1392 1393\n",
            " 1394 1395 1396 1397 1398 1399 1400 1401 1402 1403 1404 1405 1406 1407\n",
            " 1408 1409 1410 1411 1412 1413 1414 1415 1416 1417 1418 1419 1420 1421\n",
            " 1422 1423 1424 1425 1426 1427 1428 1429 1430 1431 1432 1433 1434 1435\n",
            " 1436 1437 1438 1439 1440 1441 1442 1443 1444 1445 1446 1447 1448 1449\n",
            " 1450 1451 1452 1453 1454 1455 1456 1457 1458 1459 1460 1461 1462 1463\n",
            " 1464 1465 1466 1467 1468 1469 1470 1471 1472 1473 1474 1475 1476 1477\n",
            " 1478 1479 1480 1481 1482 1483 1484 1485 1486 1487 1488 1489 1490 1491\n",
            " 1492 1493 1494 1495 1496 1497 1498 1499 1500 1501 1502 1503 1504 1505\n",
            " 1506 1507 1508 1509 1510 1511 1512 1513 1514 1515 1516 1517 1518 1519\n",
            " 1520 1521 1522 1523 1524 1525 1526 1527 1528 1529 1530 1531 1532 1533\n",
            " 1534 1535 1536 1537 1538 1539 1540 1541 1542 1543 1544 1545 1546 1547\n",
            " 1548 1549 1550 1551 1552 1553 1554 1555 1556 1557 1558 1559 1560 1561\n",
            " 1562 1563 1564 1565 1566 1567 1568 1569 1570 1571 1572 1573 1574 1575\n",
            " 1576 1577 1578 1579 1580 1581 1582 1583 1584 1585 1586 1587 1588 1589\n",
            " 1590 1591 1592 1593 1594 1595 1596 1597 1598 1599 1600 1601 1602 1603\n",
            " 1604 1605 1606 1607 1608 1609 1610 1611 1612 1613 1614 1615 1616 1617\n",
            " 1618 1619 1620 1621 1622 1623 1624 1625 1626 1627 1628 1629 1630 1631\n",
            " 1632 1633 1634 1635 1636 1637 1638 1639 1640 1641 1642 1643 1644 1645\n",
            " 1646 1647 1648 1649 1650 1651 1652 1653 1654 1655 1656 1657 1658 1659\n",
            " 1660 1661 1662 1663 1664 1665 1666 1667 1668 1669 1670 1671 1672 1673\n",
            " 1674 1675 1676 1677 1678 1679 1680 1681 1682 1683 1684 1685 1686 1687\n",
            " 1688 1689 1690 1691 1692 1693 1694 1695 1696 1697 1698 1699 1700 1701\n",
            " 1702 1703 1704 1705 1706 1707 1708 1709 1710 1711 1712 1713 1714 1715\n",
            " 1716 1717 1718 1719 1720 1721 1722 1723 1724 1725 1726 1727 1728 1729\n",
            " 1730 1731 1732 1733 1734 1735 1736 1737 1738 1739 1740 1741 1742 1743\n",
            " 1744 1745 1746 1747 1748 1749 1750 1751 1752 1753 1754 1755 1756 1757\n",
            " 1758 1759 1760 1761 1762 1763 1764 1765 1766 1767 1768 1769 1770 1771\n",
            " 1772 1773 1774 1775 1776 1777 1778 1779 1780 1781 1782 1783 1784 1785\n",
            " 1786 1787 1788 1789 1790 1791 1792 1793 1794 1795 1796 1797 1798 1799\n",
            " 1800 1801 1802 1803 1804 1805 1806 1807 1808 1809 1810 1811 1812 1813\n",
            " 1814 1815 1816 1817 1818 1819 1820 1821 1822 1823 1824 1825 1826 1827\n",
            " 1828 1829 1830 1831 1832 1833 1834 1835 1836 1837 1838 1839 1840 1841\n",
            " 1842 1843 1844 1845 1846 1847 1848 1849 1850 1851 1852 1853 1854 1855\n",
            " 1856 1857 1858 1859 1860 1861 1862 1863 1864 1865 1866 1867 1868 1869\n",
            " 1870 1871 1872 1873 1874 1875 1876 1877 1878 1879 1880 1881 1882 1883\n",
            " 1884 1885 1886 1887 1888 1889 1890 1891 1892 1893 1894 1895 1896 1897\n",
            " 1898 1899 1900 1901]\n",
            "-----\n",
            "Treino: [   0    1    2 ... 3165 3166 3167] \n",
            "Teste: [1902 1903 1904 1905 1906 1907 1908 1909 1910 1911 1912 1913 1914 1915\n",
            " 1916 1917 1918 1919 1920 1921 1922 1923 1924 1925 1926 1927 1928 1929\n",
            " 1930 1931 1932 1933 1934 1935 1936 1937 1938 1939 1940 1941 1942 1943\n",
            " 1944 1945 1946 1947 1948 1949 1950 1951 1952 1953 1954 1955 1956 1957\n",
            " 1958 1959 1960 1961 1962 1963 1964 1965 1966 1967 1968 1969 1970 1971\n",
            " 1972 1973 1974 1975 1976 1977 1978 1979 1980 1981 1982 1983 1984 1985\n",
            " 1986 1987 1988 1989 1990 1991 1992 1993 1994 1995 1996 1997 1998 1999\n",
            " 2000 2001 2002 2003 2004 2005 2006 2007 2008 2009 2010 2011 2012 2013\n",
            " 2014 2015 2016 2017 2018 2019 2020 2021 2022 2023 2024 2025 2026 2027\n",
            " 2028 2029 2030 2031 2032 2033 2034 2035 2036 2037 2038 2039 2040 2041\n",
            " 2042 2043 2044 2045 2046 2047 2048 2049 2050 2051 2052 2053 2054 2055\n",
            " 2056 2057 2058 2059 2060 2061 2062 2063 2064 2065 2066 2067 2068 2069\n",
            " 2070 2071 2072 2073 2074 2075 2076 2077 2078 2079 2080 2081 2082 2083\n",
            " 2084 2085 2086 2087 2088 2089 2090 2091 2092 2093 2094 2095 2096 2097\n",
            " 2098 2099 2100 2101 2102 2103 2104 2105 2106 2107 2108 2109 2110 2111\n",
            " 2112 2113 2114 2115 2116 2117 2118 2119 2120 2121 2122 2123 2124 2125\n",
            " 2126 2127 2128 2129 2130 2131 2132 2133 2134 2135 2136 2137 2138 2139\n",
            " 2140 2141 2142 2143 2144 2145 2146 2147 2148 2149 2150 2151 2152 2153\n",
            " 2154 2155 2156 2157 2158 2159 2160 2161 2162 2163 2164 2165 2166 2167\n",
            " 2168 2169 2170 2171 2172 2173 2174 2175 2176 2177 2178 2179 2180 2181\n",
            " 2182 2183 2184 2185 2186 2187 2188 2189 2190 2191 2192 2193 2194 2195\n",
            " 2196 2197 2198 2199 2200 2201 2202 2203 2204 2205 2206 2207 2208 2209\n",
            " 2210 2211 2212 2213 2214 2215 2216 2217 2218 2219 2220 2221 2222 2223\n",
            " 2224 2225 2226 2227 2228 2229 2230 2231 2232 2233 2234 2235 2236 2237\n",
            " 2238 2239 2240 2241 2242 2243 2244 2245 2246 2247 2248 2249 2250 2251\n",
            " 2252 2253 2254 2255 2256 2257 2258 2259 2260 2261 2262 2263 2264 2265\n",
            " 2266 2267 2268 2269 2270 2271 2272 2273 2274 2275 2276 2277 2278 2279\n",
            " 2280 2281 2282 2283 2284 2285 2286 2287 2288 2289 2290 2291 2292 2293\n",
            " 2294 2295 2296 2297 2298 2299 2300 2301 2302 2303 2304 2305 2306 2307\n",
            " 2308 2309 2310 2311 2312 2313 2314 2315 2316 2317 2318 2319 2320 2321\n",
            " 2322 2323 2324 2325 2326 2327 2328 2329 2330 2331 2332 2333 2334 2335\n",
            " 2336 2337 2338 2339 2340 2341 2342 2343 2344 2345 2346 2347 2348 2349\n",
            " 2350 2351 2352 2353 2354 2355 2356 2357 2358 2359 2360 2361 2362 2363\n",
            " 2364 2365 2366 2367 2368 2369 2370 2371 2372 2373 2374 2375 2376 2377\n",
            " 2378 2379 2380 2381 2382 2383 2384 2385 2386 2387 2388 2389 2390 2391\n",
            " 2392 2393 2394 2395 2396 2397 2398 2399 2400 2401 2402 2403 2404 2405\n",
            " 2406 2407 2408 2409 2410 2411 2412 2413 2414 2415 2416 2417 2418 2419\n",
            " 2420 2421 2422 2423 2424 2425 2426 2427 2428 2429 2430 2431 2432 2433\n",
            " 2434 2435 2436 2437 2438 2439 2440 2441 2442 2443 2444 2445 2446 2447\n",
            " 2448 2449 2450 2451 2452 2453 2454 2455 2456 2457 2458 2459 2460 2461\n",
            " 2462 2463 2464 2465 2466 2467 2468 2469 2470 2471 2472 2473 2474 2475\n",
            " 2476 2477 2478 2479 2480 2481 2482 2483 2484 2485 2486 2487 2488 2489\n",
            " 2490 2491 2492 2493 2494 2495 2496 2497 2498 2499 2500 2501 2502 2503\n",
            " 2504 2505 2506 2507 2508 2509 2510 2511 2512 2513 2514 2515 2516 2517\n",
            " 2518 2519 2520 2521 2522 2523 2524 2525 2526 2527 2528 2529 2530 2531\n",
            " 2532 2533 2534]\n",
            "-----\n",
            "Treino: [   0    1    2 ... 2532 2533 2534] \n",
            "Teste: [2535 2536 2537 2538 2539 2540 2541 2542 2543 2544 2545 2546 2547 2548\n",
            " 2549 2550 2551 2552 2553 2554 2555 2556 2557 2558 2559 2560 2561 2562\n",
            " 2563 2564 2565 2566 2567 2568 2569 2570 2571 2572 2573 2574 2575 2576\n",
            " 2577 2578 2579 2580 2581 2582 2583 2584 2585 2586 2587 2588 2589 2590\n",
            " 2591 2592 2593 2594 2595 2596 2597 2598 2599 2600 2601 2602 2603 2604\n",
            " 2605 2606 2607 2608 2609 2610 2611 2612 2613 2614 2615 2616 2617 2618\n",
            " 2619 2620 2621 2622 2623 2624 2625 2626 2627 2628 2629 2630 2631 2632\n",
            " 2633 2634 2635 2636 2637 2638 2639 2640 2641 2642 2643 2644 2645 2646\n",
            " 2647 2648 2649 2650 2651 2652 2653 2654 2655 2656 2657 2658 2659 2660\n",
            " 2661 2662 2663 2664 2665 2666 2667 2668 2669 2670 2671 2672 2673 2674\n",
            " 2675 2676 2677 2678 2679 2680 2681 2682 2683 2684 2685 2686 2687 2688\n",
            " 2689 2690 2691 2692 2693 2694 2695 2696 2697 2698 2699 2700 2701 2702\n",
            " 2703 2704 2705 2706 2707 2708 2709 2710 2711 2712 2713 2714 2715 2716\n",
            " 2717 2718 2719 2720 2721 2722 2723 2724 2725 2726 2727 2728 2729 2730\n",
            " 2731 2732 2733 2734 2735 2736 2737 2738 2739 2740 2741 2742 2743 2744\n",
            " 2745 2746 2747 2748 2749 2750 2751 2752 2753 2754 2755 2756 2757 2758\n",
            " 2759 2760 2761 2762 2763 2764 2765 2766 2767 2768 2769 2770 2771 2772\n",
            " 2773 2774 2775 2776 2777 2778 2779 2780 2781 2782 2783 2784 2785 2786\n",
            " 2787 2788 2789 2790 2791 2792 2793 2794 2795 2796 2797 2798 2799 2800\n",
            " 2801 2802 2803 2804 2805 2806 2807 2808 2809 2810 2811 2812 2813 2814\n",
            " 2815 2816 2817 2818 2819 2820 2821 2822 2823 2824 2825 2826 2827 2828\n",
            " 2829 2830 2831 2832 2833 2834 2835 2836 2837 2838 2839 2840 2841 2842\n",
            " 2843 2844 2845 2846 2847 2848 2849 2850 2851 2852 2853 2854 2855 2856\n",
            " 2857 2858 2859 2860 2861 2862 2863 2864 2865 2866 2867 2868 2869 2870\n",
            " 2871 2872 2873 2874 2875 2876 2877 2878 2879 2880 2881 2882 2883 2884\n",
            " 2885 2886 2887 2888 2889 2890 2891 2892 2893 2894 2895 2896 2897 2898\n",
            " 2899 2900 2901 2902 2903 2904 2905 2906 2907 2908 2909 2910 2911 2912\n",
            " 2913 2914 2915 2916 2917 2918 2919 2920 2921 2922 2923 2924 2925 2926\n",
            " 2927 2928 2929 2930 2931 2932 2933 2934 2935 2936 2937 2938 2939 2940\n",
            " 2941 2942 2943 2944 2945 2946 2947 2948 2949 2950 2951 2952 2953 2954\n",
            " 2955 2956 2957 2958 2959 2960 2961 2962 2963 2964 2965 2966 2967 2968\n",
            " 2969 2970 2971 2972 2973 2974 2975 2976 2977 2978 2979 2980 2981 2982\n",
            " 2983 2984 2985 2986 2987 2988 2989 2990 2991 2992 2993 2994 2995 2996\n",
            " 2997 2998 2999 3000 3001 3002 3003 3004 3005 3006 3007 3008 3009 3010\n",
            " 3011 3012 3013 3014 3015 3016 3017 3018 3019 3020 3021 3022 3023 3024\n",
            " 3025 3026 3027 3028 3029 3030 3031 3032 3033 3034 3035 3036 3037 3038\n",
            " 3039 3040 3041 3042 3043 3044 3045 3046 3047 3048 3049 3050 3051 3052\n",
            " 3053 3054 3055 3056 3057 3058 3059 3060 3061 3062 3063 3064 3065 3066\n",
            " 3067 3068 3069 3070 3071 3072 3073 3074 3075 3076 3077 3078 3079 3080\n",
            " 3081 3082 3083 3084 3085 3086 3087 3088 3089 3090 3091 3092 3093 3094\n",
            " 3095 3096 3097 3098 3099 3100 3101 3102 3103 3104 3105 3106 3107 3108\n",
            " 3109 3110 3111 3112 3113 3114 3115 3116 3117 3118 3119 3120 3121 3122\n",
            " 3123 3124 3125 3126 3127 3128 3129 3130 3131 3132 3133 3134 3135 3136\n",
            " 3137 3138 3139 3140 3141 3142 3143 3144 3145 3146 3147 3148 3149 3150\n",
            " 3151 3152 3153 3154 3155 3156 3157 3158 3159 3160 3161 3162 3163 3164\n",
            " 3165 3166 3167]\n",
            "-----\n"
          ],
          "name": "stdout"
        }
      ]
    },
    {
      "cell_type": "code",
      "metadata": {
        "id": "N8aZmdb2vZze",
        "colab_type": "code",
        "colab": {}
      },
      "source": [
        "from sklearn.model_selection import cross_val_score"
      ],
      "execution_count": null,
      "outputs": []
    },
    {
      "cell_type": "code",
      "metadata": {
        "id": "Y7FlJlbGvhoJ",
        "colab_type": "code",
        "colab": {}
      },
      "source": [
        "classificador = DecisionTreeClassifier()"
      ],
      "execution_count": null,
      "outputs": []
    },
    {
      "cell_type": "code",
      "metadata": {
        "id": "9crGKizEvrhh",
        "colab_type": "code",
        "colab": {
          "base_uri": "https://localhost:8080/",
          "height": 35
        },
        "outputId": "fab69869-b137-499a-d827-935315567bc7"
      },
      "source": [
        "scores = cross_val_score(classificador,X,y,cv=10)\n",
        "scores"
      ],
      "execution_count": null,
      "outputs": [
        {
          "output_type": "execute_result",
          "data": {
            "text/plain": [
              "array([1., 1., 1., 1., 1., 1., 1., 1., 1., 1.])"
            ]
          },
          "metadata": {
            "tags": []
          },
          "execution_count": 402
        }
      ]
    },
    {
      "cell_type": "code",
      "metadata": {
        "id": "9tlpnHiwwGEe",
        "colab_type": "code",
        "colab": {
          "base_uri": "https://localhost:8080/",
          "height": 35
        },
        "outputId": "89b08a58-69b6-49c8-ec0b-6cf85268b1b1"
      },
      "source": [
        "scores.mean(),scores.std()"
      ],
      "execution_count": null,
      "outputs": [
        {
          "output_type": "execute_result",
          "data": {
            "text/plain": [
              "(1.0, 0.0)"
            ]
          },
          "metadata": {
            "tags": []
          },
          "execution_count": 403
        }
      ]
    },
    {
      "cell_type": "code",
      "metadata": {
        "id": "Brx32u0IwRUw",
        "colab_type": "code",
        "colab": {
          "base_uri": "https://localhost:8080/",
          "height": 127
        },
        "outputId": "3ec6458a-8c51-40bf-bb87-51e71ce60aed"
      },
      "source": [
        "arvore = DecisionTreeClassifier()\n",
        "arvore.fit(X_train,y_train)"
      ],
      "execution_count": null,
      "outputs": [
        {
          "output_type": "execute_result",
          "data": {
            "text/plain": [
              "DecisionTreeClassifier(ccp_alpha=0.0, class_weight=None, criterion='gini',\n",
              "                       max_depth=None, max_features=None, max_leaf_nodes=None,\n",
              "                       min_impurity_decrease=0.0, min_impurity_split=None,\n",
              "                       min_samples_leaf=1, min_samples_split=2,\n",
              "                       min_weight_fraction_leaf=0.0, presort='deprecated',\n",
              "                       random_state=None, splitter='best')"
            ]
          },
          "metadata": {
            "tags": []
          },
          "execution_count": 404
        }
      ]
    },
    {
      "cell_type": "code",
      "metadata": {
        "id": "F_GnV7Wwwgl_",
        "colab_type": "code",
        "colab": {
          "base_uri": "https://localhost:8080/",
          "height": 164
        },
        "outputId": "cdf6eded-ef18-4d9f-e37e-bd73955b179b"
      },
      "source": [
        "from sklearn.ensemble import RandomForestClassifier\n",
        "floresta = RandomForestClassifier(n_estimators=100)\n",
        "floresta.fit(X_train,y_train)"
      ],
      "execution_count": null,
      "outputs": [
        {
          "output_type": "execute_result",
          "data": {
            "text/plain": [
              "RandomForestClassifier(bootstrap=True, ccp_alpha=0.0, class_weight=None,\n",
              "                       criterion='gini', max_depth=None, max_features='auto',\n",
              "                       max_leaf_nodes=None, max_samples=None,\n",
              "                       min_impurity_decrease=0.0, min_impurity_split=None,\n",
              "                       min_samples_leaf=1, min_samples_split=2,\n",
              "                       min_weight_fraction_leaf=0.0, n_estimators=100,\n",
              "                       n_jobs=None, oob_score=False, random_state=None,\n",
              "                       verbose=0, warm_start=False)"
            ]
          },
          "metadata": {
            "tags": []
          },
          "execution_count": 405
        }
      ]
    },
    {
      "cell_type": "code",
      "metadata": {
        "id": "3YQBVMh-w-Ya",
        "colab_type": "code",
        "colab": {
          "base_uri": "https://localhost:8080/",
          "height": 35
        },
        "outputId": "e2638656-57de-4ee5-ac4d-ccbe6c5c558b"
      },
      "source": [
        "arvore.score(X_test,y_test)"
      ],
      "execution_count": null,
      "outputs": [
        {
          "output_type": "execute_result",
          "data": {
            "text/plain": [
              "1.0"
            ]
          },
          "metadata": {
            "tags": []
          },
          "execution_count": 406
        }
      ]
    },
    {
      "cell_type": "code",
      "metadata": {
        "id": "mJY5BOGFzFuj",
        "colab_type": "code",
        "colab": {
          "base_uri": "https://localhost:8080/",
          "height": 35
        },
        "outputId": "a28eedee-d73a-4bb9-d952-94198f64c308"
      },
      "source": [
        "floresta.score(X_train,y_train)"
      ],
      "execution_count": null,
      "outputs": [
        {
          "output_type": "execute_result",
          "data": {
            "text/plain": [
              "1.0"
            ]
          },
          "metadata": {
            "tags": []
          },
          "execution_count": 407
        }
      ]
    },
    {
      "cell_type": "code",
      "metadata": {
        "id": "YryFkCmQxIAF",
        "colab_type": "code",
        "colab": {}
      },
      "source": [
        "clf_arvore = arvore.predict(X_test)"
      ],
      "execution_count": null,
      "outputs": []
    },
    {
      "cell_type": "code",
      "metadata": {
        "id": "6VFxDOLExWAL",
        "colab_type": "code",
        "colab": {}
      },
      "source": [
        "clf_floresta = floresta.predict(X_test)"
      ],
      "execution_count": null,
      "outputs": []
    },
    {
      "cell_type": "code",
      "metadata": {
        "id": "Q3q7xfKixpo4",
        "colab_type": "code",
        "colab": {}
      },
      "source": [
        "fpr_ar, tpr_ar, _ = roc_curve(y_test,clf_arvore)"
      ],
      "execution_count": null,
      "outputs": []
    },
    {
      "cell_type": "code",
      "metadata": {
        "id": "aXVFvUnlx38_",
        "colab_type": "code",
        "colab": {}
      },
      "source": [
        "\n",
        "\n",
        "fpr_fl, tpr_fl, _ = roc_curve(y_test,clf_floresta)"
      ],
      "execution_count": null,
      "outputs": []
    },
    {
      "cell_type": "markdown",
      "metadata": {
        "id": "Zu2BtnM_Hayf",
        "colab_type": "text"
      },
      "source": [
        "Com a continuação da atividade pude vê que houve uma precisão muito alta ou até mesmo um erro. É algo raro, mas a acurácia foi bem precisa. Treino e teste validados."
      ]
    },
    {
      "cell_type": "code",
      "metadata": {
        "id": "_gN-3Tyn5Eh5",
        "colab_type": "code",
        "colab": {
          "base_uri": "https://localhost:8080/",
          "height": 404
        },
        "outputId": "cfbc0e6d-8cc7-483f-bd00-67b2e48ab95f"
      },
      "source": [
        "plt.plot (fpr_ar, tpr_ar, linestyle='--' ,label='arvore')\n",
        "plt.plot (fpr_fl, tpr_fl, marker= '.',label='floresta')\n",
        "plt.title('Curva ROC')\n",
        "plt.legend()\n",
        "plt.xlabel('Taxa de Falsos Positivos')\n",
        "plt.ylabel('Taxa de Verdadeiro Positivos')\n",
        "plt.show()"
      ],
      "execution_count": null,
      "outputs": [
        {
          "output_type": "display_data",
          "data": {
            "image/png": "[encoded data removed]",
            "text/plain": [
              "<Figure size 576x432 with 1 Axes>"
            ]
          },
          "metadata": {
            "tags": [],
            "needs_background": "light"
          }
        }
      ]
    },
    {
      "cell_type": "code",
      "metadata": {
        "id": "Ts_ToW6S76iS",
        "colab_type": "code",
        "colab": {
          "base_uri": "https://localhost:8080/",
          "height": 35
        },
        "outputId": "098c9973-daef-46f3-ae7b-e63c0d71321e"
      },
      "source": [
        "arvore = DecisionTreeClassifier()\n",
        "\n",
        "scores = cross_val_score(arvore,X,y,cv=10)\n",
        "round(scores.mean(),3),round(scores.std(),3)"
      ],
      "execution_count": null,
      "outputs": [
        {
          "output_type": "execute_result",
          "data": {
            "text/plain": [
              "(1.0, 0.0)"
            ]
          },
          "metadata": {
            "tags": []
          },
          "execution_count": 413
        }
      ]
    },
    {
      "cell_type": "code",
      "metadata": {
        "id": "WNqVQen88a2V",
        "colab_type": "code",
        "colab": {
          "base_uri": "https://localhost:8080/",
          "height": 35
        },
        "outputId": "9cf1bde6-6bd9-4cae-e1e7-ea91cdd917b8"
      },
      "source": [
        "floresta = RandomForestClassifier()\n",
        "scores = cross_val_score(floresta,X,y,cv=10)\n",
        "round(scores.mean(),3),round(scores.std(),3)"
      ],
      "execution_count": null,
      "outputs": [
        {
          "output_type": "execute_result",
          "data": {
            "text/plain": [
              "(1.0, 0.0)"
            ]
          },
          "metadata": {
            "tags": []
          },
          "execution_count": 414
        }
      ]
    },
    {
      "cell_type": "markdown",
      "metadata": {
        "id": "0546dpW1b7kN",
        "colab_type": "text"
      },
      "source": [
        "Depois dos resultados obtidos na acurácia busquei demostrar o mesmo em forma de gráfico via Curva ROC. Tanto arvore como a floresta os valores foram iguais. Mostrando que a predominancia das taxas de verdadeiros positivos são corretas."
      ]
    },
    {
      "cell_type": "code",
      "metadata": {
        "id": "Iqs3r9o8stZ7",
        "colab_type": "code",
        "colab": {
          "base_uri": "https://localhost:8080/",
          "height": 72
        },
        "outputId": "94dd2352-4489-42a1-98d3-46381da1c393"
      },
      "source": [
        "#Criando o modelo e ajustando aos dados\n",
        "#agrupamento\n",
        "kmeans = KMeans(n_clusters=2)\n",
        "kmeans.fit(X)"
      ],
      "execution_count": null,
      "outputs": [
        {
          "output_type": "execute_result",
          "data": {
            "text/plain": [
              "KMeans(algorithm='auto', copy_x=True, init='k-means++', max_iter=300,\n",
              "       n_clusters=2, n_init=10, n_jobs=None, precompute_distances='auto',\n",
              "       random_state=None, tol=0.0001, verbose=0)"
            ]
          },
          "metadata": {
            "tags": []
          },
          "execution_count": 415
        }
      ]
    },
    {
      "cell_type": "code",
      "metadata": {
        "id": "r_1YtGRrwUxp",
        "colab_type": "code",
        "colab": {
          "base_uri": "https://localhost:8080/",
          "height": 35
        },
        "outputId": "f12fa47c-5402-4fe8-b253-e1e1fda8276b"
      },
      "source": [
        "kmeans_labels= kmeans.predict(X)\n",
        "kmeans_labels"
      ],
      "execution_count": null,
      "outputs": [
        {
          "output_type": "execute_result",
          "data": {
            "text/plain": [
              "array([0, 1, 1, ..., 0, 0, 0], dtype=int32)"
            ]
          },
          "metadata": {
            "tags": []
          },
          "execution_count": 416
        }
      ]
    },
    {
      "cell_type": "code",
      "metadata": {
        "id": "IjgTTQZbod9G",
        "colab_type": "code",
        "colab": {}
      },
      "source": [
        "#Visualizando os resultados do agrupamento\n",
        "X = X.reset_index (drop=True)\n"
      ],
      "execution_count": null,
      "outputs": []
    },
    {
      "cell_type": "code",
      "metadata": {
        "id": "Rsy1jbwNdcuQ",
        "colab_type": "code",
        "colab": {
          "base_uri": "https://localhost:8080/",
          "height": 135
        },
        "outputId": "366e2609-3ac6-4556-8c55-22c26d24e272"
      },
      "source": [
        "grupos = pd.DataFrame(kmeans_labels)\n",
        "X.insert((X.shape[1])),'sd',grupos)"
      ],
      "execution_count": null,
      "outputs": [
        {
          "output_type": "error",
          "ename": "SyntaxError",
          "evalue": "ignored",
          "traceback": [
            "\u001b[0;36m  File \u001b[0;32m\"<ipython-input-422-2548949464be>\"\u001b[0;36m, line \u001b[0;32m2\u001b[0m\n\u001b[0;31m    X.insert((X.shape[1])),'sd',grupos)\u001b[0m\n\u001b[0m                                      ^\u001b[0m\n\u001b[0;31mSyntaxError\u001b[0m\u001b[0;31m:\u001b[0m invalid syntax\n"
          ]
        }
      ]
    },
    {
      "cell_type": "code",
      "metadata": {
        "id": "soX0_rcH5y95",
        "colab_type": "code",
        "colab": {
          "base_uri": "https://localhost:8080/",
          "height": 135
        },
        "outputId": "4ea87dfe-9f23-4ed1-dbfa-8b8d3468142b"
      },
      "source": [
        "masculino = X[X['male']]==0]\n",
        "masculina = X[X['']]==1]"
      ],
      "execution_count": null,
      "outputs": [
        {
          "output_type": "error",
          "ename": "SyntaxError",
          "evalue": "ignored",
          "traceback": [
            "\u001b[0;36m  File \u001b[0;32m\"<ipython-input-423-2fef7e8ece55>\"\u001b[0;36m, line \u001b[0;32m1\u001b[0m\n\u001b[0;31m    masculino = X[X['male']]==0]\u001b[0m\n\u001b[0m                               ^\u001b[0m\n\u001b[0;31mSyntaxError\u001b[0m\u001b[0;31m:\u001b[0m invalid syntax\n"
          ]
        }
      ]
    },
    {
      "cell_type": "markdown",
      "metadata": {
        "id": "ODZ1dIUwsWRr",
        "colab_type": "text"
      },
      "source": [
        "Não conseguir detectar em qual linha esta o erro que impacta nessa penultima. Refiz os comandos duas vezes, conferir a sintase de ponta a ponta e nada. ( Realizei algumas modificações para continuar usando esse data.\n",
        "Professores preciso de um feed. Não pretendo mudar de dataset, mas se for preciso farei. \n"
      ]
    }
  ]
}